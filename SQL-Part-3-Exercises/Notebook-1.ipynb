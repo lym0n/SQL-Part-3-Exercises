{
    "metadata": {
        "kernelspec": {
            "name": "SQL",
            "display_name": "SQL",
            "language": "sql"
        },
        "language_info": {
            "name": "sql",
            "version": ""
        },
        "extensions": {
            "azuredatastudio": {
                "version": 1,
                "views": []
            }
        }
    },
    "nbformat_minor": 2,
    "nbformat": 4,
    "cells": [
        {
            "cell_type": "markdown",
            "source": [
                "# SQL Part 3 Exercises Joins\n",
                "\n",
                "This notebook works with the BooksDB dataset.  \n",
                "\n",
                "**Questions 1-4** focus on how joins work in a more general sense.  If you are not sure how to best answer the questions, try manipulating the queries by changing the order of joins, the length of the TOP, or how they are ordered.  \n",
                "\n",
                "> <span style=\"background-color: rgba(127, 127, 127, 0.1);\"><i>Note</i>: If some of the queries are not returning quickly, you can try closing and restarting azure data studio after a few minutes.</span>\n",
                "\n",
                "In **questions 5-8**, you will be asked to join tables to find results about titles, tags, and the books users want to read.\n",
                "\n",
                "As you go through the questions, you will see 'Minimum Desired Output'.  This will provide you with the bare minimum columns needed to answer the questions.  When you write the queries, add as many additional columns as you need to best find your answers."
            ],
            "metadata": {
                "azdata_cell_guid": "db9534a9-c8a7-4c09-8180-bcba0690bb02"
            },
            "attachments": {}
        },
        {
            "cell_type": "markdown",
            "source": [
                "## **QUESTION 1:**  Exploring a LEFT JOIN using the **books** and **to\\_read** tables\n",
                "\n",
                "The code block below has been commented out. To answer this question, you will need to uncomment it by removing the **/\\*** (line 1) and **\\*/** (line 16).\n",
                "\n",
                "**Part A:** Look at Query 1, which table is the 'Left' table and which is the 'Right'?\n",
                "\n",
                "> Your Answer: Books is the left table; to\\_read is the right table\n",
                "\n",
                "**Part B:** Using table 2, answer the following questions: \n",
                "\n",
                "- When we added a  '**WHERE tr.user\\_id IS NOT NULL'** clause (line 14), how did the table change?  Why?\n",
                "\n",
                "> Your Answer: Adding that clause removed/doesn't show any columns where the value for user\\_id was empy or null in the to\\_read table. I think this was done because there is little to no value in seeing any books listed in this report for books that no one saved in their To Read list. I think this statement essentially makes this a full join - it results in the same amount of rows at least."
            ],
            "metadata": {
                "azdata_cell_guid": "660be568-9a70-40ff-a2fa-a78e31e87b6f"
            },
            "attachments": {}
        },
        {
            "cell_type": "code",
            "source": [
                "\n",
                "-- Query 1: LEFT JOIN \n",
                "SELECT top 50  b.title, b.average_rating, b.books_count,tr.user_id, tr.book_id\n",
                "FROM BooksDB.dbo.books AS b\n",
                "LEFT JOIN BooksDB.dbo.to_read AS tr\n",
                "ON b.best_book_id = tr.book_id\n",
                "ORDER BY b.average_rating;\n",
                "\n",
                "-- Query 2: LEFT JOIN USING 'IS NOT NULL'\n",
                "SELECT top 50 b.title, b.average_rating, b.books_count,tr.user_id, tr.book_id\n",
                "FROM BooksDB.dbo.books AS b\n",
                "LEFT JOIN BooksDB.dbo.to_read AS tr\n",
                "ON b.best_book_id = tr.book_id\n",
                "WHERE tr.user_id IS NOT NULL\n",
                "ORDER BY b.average_rating;\n",
                ""
            ],
            "metadata": {
                "azdata_cell_guid": "25dcd34c-5e5d-4393-9da0-a4c0effb6455",
                "tags": [],
                "language": "sql"
            },
            "outputs": [
                {
                    "output_type": "display_data",
                    "data": {
                        "text/html": "(50 rows affected)"
                    },
                    "metadata": {}
                },
                {
                    "output_type": "display_data",
                    "data": {
                        "text/html": "(50 rows affected)"
                    },
                    "metadata": {}
                },
                {
                    "output_type": "display_data",
                    "data": {
                        "text/html": "Total execution time: 00:00:07.321"
                    },
                    "metadata": {}
                },
                {
                    "output_type": "execute_result",
                    "execution_count": 17,
                    "data": {
                        "application/vnd.dataresource+json": {
                            "schema": {
                                "fields": [
                                    {
                                        "name": "title"
                                    },
                                    {
                                        "name": "average_rating"
                                    },
                                    {
                                        "name": "books_count"
                                    },
                                    {
                                        "name": "user_id"
                                    },
                                    {
                                        "name": "book_id"
                                    }
                                ]
                            },
                            "data": [
                                {
                                    "0": "One Night at the Call Center",
                                    "1": "2.47",
                                    "2": "25",
                                    "3": "NULL",
                                    "4": "NULL"
                                },
                                {
                                    "0": "The Almost Moon",
                                    "1": "2.67",
                                    "2": "63",
                                    "3": "NULL",
                                    "4": "NULL"
                                },
                                {
                                    "0": "The Finkler Question",
                                    "1": "2.76",
                                    "2": "45",
                                    "3": "NULL",
                                    "4": "NULL"
                                },
                                {
                                    "0": "Four Blondes",
                                    "1": "2.8",
                                    "2": "57",
                                    "3": "449",
                                    "4": "6613"
                                },
                                {
                                    "0": "Four Blondes",
                                    "1": "2.8",
                                    "2": "57",
                                    "3": "1378",
                                    "4": "6613"
                                },
                                {
                                    "0": "Four Blondes",
                                    "1": "2.8",
                                    "2": "57",
                                    "3": "6465",
                                    "4": "6613"
                                },
                                {
                                    "0": "Four Blondes",
                                    "1": "2.8",
                                    "2": "57",
                                    "3": "6700",
                                    "4": "6613"
                                },
                                {
                                    "0": "Four Blondes",
                                    "1": "2.8",
                                    "2": "57",
                                    "3": "7830",
                                    "4": "6613"
                                },
                                {
                                    "0": "Four Blondes",
                                    "1": "2.8",
                                    "2": "57",
                                    "3": "10085",
                                    "4": "6613"
                                },
                                {
                                    "0": "Four Blondes",
                                    "1": "2.8",
                                    "2": "57",
                                    "3": "16298",
                                    "4": "6613"
                                },
                                {
                                    "0": "Four Blondes",
                                    "1": "2.8",
                                    "2": "57",
                                    "3": "16845",
                                    "4": "6613"
                                },
                                {
                                    "0": "Four Blondes",
                                    "1": "2.8",
                                    "2": "57",
                                    "3": "17470",
                                    "4": "6613"
                                },
                                {
                                    "0": "Four Blondes",
                                    "1": "2.8",
                                    "2": "57",
                                    "3": "19763",
                                    "4": "6613"
                                },
                                {
                                    "0": "Four Blondes",
                                    "1": "2.8",
                                    "2": "57",
                                    "3": "21938",
                                    "4": "6613"
                                },
                                {
                                    "0": "Four Blondes",
                                    "1": "2.8",
                                    "2": "57",
                                    "3": "22289",
                                    "4": "6613"
                                },
                                {
                                    "0": "Four Blondes",
                                    "1": "2.8",
                                    "2": "57",
                                    "3": "23758",
                                    "4": "6613"
                                },
                                {
                                    "0": "Four Blondes",
                                    "1": "2.8",
                                    "2": "57",
                                    "3": "27874",
                                    "4": "6613"
                                },
                                {
                                    "0": "Four Blondes",
                                    "1": "2.8",
                                    "2": "57",
                                    "3": "28690",
                                    "4": "6613"
                                },
                                {
                                    "0": "Four Blondes",
                                    "1": "2.8",
                                    "2": "57",
                                    "3": "29023",
                                    "4": "6613"
                                },
                                {
                                    "0": "Four Blondes",
                                    "1": "2.8",
                                    "2": "57",
                                    "3": "29315",
                                    "4": "6613"
                                },
                                {
                                    "0": "Four Blondes",
                                    "1": "2.8",
                                    "2": "57",
                                    "3": "30245",
                                    "4": "6613"
                                },
                                {
                                    "0": "Four Blondes",
                                    "1": "2.8",
                                    "2": "57",
                                    "3": "36128",
                                    "4": "6613"
                                },
                                {
                                    "0": "Four Blondes",
                                    "1": "2.8",
                                    "2": "57",
                                    "3": "36554",
                                    "4": "6613"
                                },
                                {
                                    "0": "Four Blondes",
                                    "1": "2.8",
                                    "2": "57",
                                    "3": "38159",
                                    "4": "6613"
                                },
                                {
                                    "0": "Four Blondes",
                                    "1": "2.8",
                                    "2": "57",
                                    "3": "38800",
                                    "4": "6613"
                                },
                                {
                                    "0": "Four Blondes",
                                    "1": "2.8",
                                    "2": "57",
                                    "3": "40361",
                                    "4": "6613"
                                },
                                {
                                    "0": "Four Blondes",
                                    "1": "2.8",
                                    "2": "57",
                                    "3": "40529",
                                    "4": "6613"
                                },
                                {
                                    "0": "Four Blondes",
                                    "1": "2.8",
                                    "2": "57",
                                    "3": "41485",
                                    "4": "6613"
                                },
                                {
                                    "0": "Four Blondes",
                                    "1": "2.8",
                                    "2": "57",
                                    "3": "42706",
                                    "4": "6613"
                                },
                                {
                                    "0": "Four Blondes",
                                    "1": "2.8",
                                    "2": "57",
                                    "3": "45206",
                                    "4": "6613"
                                },
                                {
                                    "0": "Four Blondes",
                                    "1": "2.8",
                                    "2": "57",
                                    "3": "45689",
                                    "4": "6613"
                                },
                                {
                                    "0": "Four Blondes",
                                    "1": "2.8",
                                    "2": "57",
                                    "3": "49499",
                                    "4": "6613"
                                },
                                {
                                    "0": "Four Blondes",
                                    "1": "2.8",
                                    "2": "57",
                                    "3": "51105",
                                    "4": "6613"
                                },
                                {
                                    "0": "Four Blondes",
                                    "1": "2.8",
                                    "2": "57",
                                    "3": "51671",
                                    "4": "6613"
                                },
                                {
                                    "0": "Four Blondes",
                                    "1": "2.8",
                                    "2": "57",
                                    "3": "52109",
                                    "4": "6613"
                                },
                                {
                                    "0": "Lost",
                                    "1": "2.8",
                                    "2": "18",
                                    "3": "NULL",
                                    "4": "NULL"
                                },
                                {
                                    "0": "Tell-All",
                                    "1": "2.84",
                                    "2": "37",
                                    "3": "NULL",
                                    "4": "NULL"
                                },
                                {
                                    "0": "Revenge Wears Prada: The Devil Returns (The Devil Wears Prada, #2)",
                                    "1": "2.84",
                                    "2": "59",
                                    "3": "NULL",
                                    "4": "NULL"
                                },
                                {
                                    "0": "Among the Ten Thousand Things",
                                    "1": "2.84",
                                    "2": "19",
                                    "3": "NULL",
                                    "4": "NULL"
                                },
                                {
                                    "0": "The Emperor's Children",
                                    "1": "2.93",
                                    "2": "45",
                                    "3": "7860",
                                    "4": "3648"
                                },
                                {
                                    "0": "The Emperor's Children",
                                    "1": "2.93",
                                    "2": "45",
                                    "3": "11320",
                                    "4": "3648"
                                },
                                {
                                    "0": "The Emperor's Children",
                                    "1": "2.93",
                                    "2": "45",
                                    "3": "12686",
                                    "4": "3648"
                                },
                                {
                                    "0": "The Emperor's Children",
                                    "1": "2.93",
                                    "2": "45",
                                    "3": "12729",
                                    "4": "3648"
                                },
                                {
                                    "0": "The Emperor's Children",
                                    "1": "2.93",
                                    "2": "45",
                                    "3": "12891",
                                    "4": "3648"
                                },
                                {
                                    "0": "The Emperor's Children",
                                    "1": "2.93",
                                    "2": "45",
                                    "3": "16933",
                                    "4": "3648"
                                },
                                {
                                    "0": "The Emperor's Children",
                                    "1": "2.93",
                                    "2": "45",
                                    "3": "17093",
                                    "4": "3648"
                                },
                                {
                                    "0": "The Emperor's Children",
                                    "1": "2.93",
                                    "2": "45",
                                    "3": "24036",
                                    "4": "3648"
                                },
                                {
                                    "0": "The Emperor's Children",
                                    "1": "2.93",
                                    "2": "45",
                                    "3": "35122",
                                    "4": "3648"
                                },
                                {
                                    "0": "The Emperor's Children",
                                    "1": "2.93",
                                    "2": "45",
                                    "3": "36022",
                                    "4": "3648"
                                },
                                {
                                    "0": "The Emperor's Children",
                                    "1": "2.93",
                                    "2": "45",
                                    "3": "36952",
                                    "4": "3648"
                                }
                            ]
                        },
                        "text/html": "<table><tr><th>title</th><th>average_rating</th><th>books_count</th><th>user_id</th><th>book_id</th></tr><tr><td>One Night at the Call Center</td><td>2.47</td><td>25</td><td>NULL</td><td>NULL</td></tr><tr><td>The Almost Moon</td><td>2.67</td><td>63</td><td>NULL</td><td>NULL</td></tr><tr><td>The Finkler Question</td><td>2.76</td><td>45</td><td>NULL</td><td>NULL</td></tr><tr><td>Four Blondes</td><td>2.8</td><td>57</td><td>449</td><td>6613</td></tr><tr><td>Four Blondes</td><td>2.8</td><td>57</td><td>1378</td><td>6613</td></tr><tr><td>Four Blondes</td><td>2.8</td><td>57</td><td>6465</td><td>6613</td></tr><tr><td>Four Blondes</td><td>2.8</td><td>57</td><td>6700</td><td>6613</td></tr><tr><td>Four Blondes</td><td>2.8</td><td>57</td><td>7830</td><td>6613</td></tr><tr><td>Four Blondes</td><td>2.8</td><td>57</td><td>10085</td><td>6613</td></tr><tr><td>Four Blondes</td><td>2.8</td><td>57</td><td>16298</td><td>6613</td></tr><tr><td>Four Blondes</td><td>2.8</td><td>57</td><td>16845</td><td>6613</td></tr><tr><td>Four Blondes</td><td>2.8</td><td>57</td><td>17470</td><td>6613</td></tr><tr><td>Four Blondes</td><td>2.8</td><td>57</td><td>19763</td><td>6613</td></tr><tr><td>Four Blondes</td><td>2.8</td><td>57</td><td>21938</td><td>6613</td></tr><tr><td>Four Blondes</td><td>2.8</td><td>57</td><td>22289</td><td>6613</td></tr><tr><td>Four Blondes</td><td>2.8</td><td>57</td><td>23758</td><td>6613</td></tr><tr><td>Four Blondes</td><td>2.8</td><td>57</td><td>27874</td><td>6613</td></tr><tr><td>Four Blondes</td><td>2.8</td><td>57</td><td>28690</td><td>6613</td></tr><tr><td>Four Blondes</td><td>2.8</td><td>57</td><td>29023</td><td>6613</td></tr><tr><td>Four Blondes</td><td>2.8</td><td>57</td><td>29315</td><td>6613</td></tr><tr><td>Four Blondes</td><td>2.8</td><td>57</td><td>30245</td><td>6613</td></tr><tr><td>Four Blondes</td><td>2.8</td><td>57</td><td>36128</td><td>6613</td></tr><tr><td>Four Blondes</td><td>2.8</td><td>57</td><td>36554</td><td>6613</td></tr><tr><td>Four Blondes</td><td>2.8</td><td>57</td><td>38159</td><td>6613</td></tr><tr><td>Four Blondes</td><td>2.8</td><td>57</td><td>38800</td><td>6613</td></tr><tr><td>Four Blondes</td><td>2.8</td><td>57</td><td>40361</td><td>6613</td></tr><tr><td>Four Blondes</td><td>2.8</td><td>57</td><td>40529</td><td>6613</td></tr><tr><td>Four Blondes</td><td>2.8</td><td>57</td><td>41485</td><td>6613</td></tr><tr><td>Four Blondes</td><td>2.8</td><td>57</td><td>42706</td><td>6613</td></tr><tr><td>Four Blondes</td><td>2.8</td><td>57</td><td>45206</td><td>6613</td></tr><tr><td>Four Blondes</td><td>2.8</td><td>57</td><td>45689</td><td>6613</td></tr><tr><td>Four Blondes</td><td>2.8</td><td>57</td><td>49499</td><td>6613</td></tr><tr><td>Four Blondes</td><td>2.8</td><td>57</td><td>51105</td><td>6613</td></tr><tr><td>Four Blondes</td><td>2.8</td><td>57</td><td>51671</td><td>6613</td></tr><tr><td>Four Blondes</td><td>2.8</td><td>57</td><td>52109</td><td>6613</td></tr><tr><td>Lost</td><td>2.8</td><td>18</td><td>NULL</td><td>NULL</td></tr><tr><td>Tell-All</td><td>2.84</td><td>37</td><td>NULL</td><td>NULL</td></tr><tr><td>Revenge Wears Prada: The Devil Returns (The Devil Wears Prada, #2)</td><td>2.84</td><td>59</td><td>NULL</td><td>NULL</td></tr><tr><td>Among the Ten Thousand Things</td><td>2.84</td><td>19</td><td>NULL</td><td>NULL</td></tr><tr><td>The Emperor's Children</td><td>2.93</td><td>45</td><td>7860</td><td>3648</td></tr><tr><td>The Emperor's Children</td><td>2.93</td><td>45</td><td>11320</td><td>3648</td></tr><tr><td>The Emperor's Children</td><td>2.93</td><td>45</td><td>12686</td><td>3648</td></tr><tr><td>The Emperor's Children</td><td>2.93</td><td>45</td><td>12729</td><td>3648</td></tr><tr><td>The Emperor's Children</td><td>2.93</td><td>45</td><td>12891</td><td>3648</td></tr><tr><td>The Emperor's Children</td><td>2.93</td><td>45</td><td>16933</td><td>3648</td></tr><tr><td>The Emperor's Children</td><td>2.93</td><td>45</td><td>17093</td><td>3648</td></tr><tr><td>The Emperor's Children</td><td>2.93</td><td>45</td><td>24036</td><td>3648</td></tr><tr><td>The Emperor's Children</td><td>2.93</td><td>45</td><td>35122</td><td>3648</td></tr><tr><td>The Emperor's Children</td><td>2.93</td><td>45</td><td>36022</td><td>3648</td></tr><tr><td>The Emperor's Children</td><td>2.93</td><td>45</td><td>36952</td><td>3648</td></tr></table>"
                    },
                    "metadata": {}
                },
                {
                    "output_type": "execute_result",
                    "execution_count": 17,
                    "data": {
                        "application/vnd.dataresource+json": {
                            "schema": {
                                "fields": [
                                    {
                                        "name": "title"
                                    },
                                    {
                                        "name": "average_rating"
                                    },
                                    {
                                        "name": "books_count"
                                    },
                                    {
                                        "name": "user_id"
                                    },
                                    {
                                        "name": "book_id"
                                    }
                                ]
                            },
                            "data": [
                                {
                                    "0": "Four Blondes",
                                    "1": "2.8",
                                    "2": "57",
                                    "3": "449",
                                    "4": "6613"
                                },
                                {
                                    "0": "Four Blondes",
                                    "1": "2.8",
                                    "2": "57",
                                    "3": "1378",
                                    "4": "6613"
                                },
                                {
                                    "0": "Four Blondes",
                                    "1": "2.8",
                                    "2": "57",
                                    "3": "6465",
                                    "4": "6613"
                                },
                                {
                                    "0": "Four Blondes",
                                    "1": "2.8",
                                    "2": "57",
                                    "3": "6700",
                                    "4": "6613"
                                },
                                {
                                    "0": "Four Blondes",
                                    "1": "2.8",
                                    "2": "57",
                                    "3": "7830",
                                    "4": "6613"
                                },
                                {
                                    "0": "Four Blondes",
                                    "1": "2.8",
                                    "2": "57",
                                    "3": "10085",
                                    "4": "6613"
                                },
                                {
                                    "0": "Four Blondes",
                                    "1": "2.8",
                                    "2": "57",
                                    "3": "16298",
                                    "4": "6613"
                                },
                                {
                                    "0": "Four Blondes",
                                    "1": "2.8",
                                    "2": "57",
                                    "3": "16845",
                                    "4": "6613"
                                },
                                {
                                    "0": "Four Blondes",
                                    "1": "2.8",
                                    "2": "57",
                                    "3": "17470",
                                    "4": "6613"
                                },
                                {
                                    "0": "Four Blondes",
                                    "1": "2.8",
                                    "2": "57",
                                    "3": "19763",
                                    "4": "6613"
                                },
                                {
                                    "0": "Four Blondes",
                                    "1": "2.8",
                                    "2": "57",
                                    "3": "21938",
                                    "4": "6613"
                                },
                                {
                                    "0": "Four Blondes",
                                    "1": "2.8",
                                    "2": "57",
                                    "3": "22289",
                                    "4": "6613"
                                },
                                {
                                    "0": "Four Blondes",
                                    "1": "2.8",
                                    "2": "57",
                                    "3": "23758",
                                    "4": "6613"
                                },
                                {
                                    "0": "Four Blondes",
                                    "1": "2.8",
                                    "2": "57",
                                    "3": "27874",
                                    "4": "6613"
                                },
                                {
                                    "0": "Four Blondes",
                                    "1": "2.8",
                                    "2": "57",
                                    "3": "28690",
                                    "4": "6613"
                                },
                                {
                                    "0": "Four Blondes",
                                    "1": "2.8",
                                    "2": "57",
                                    "3": "29023",
                                    "4": "6613"
                                },
                                {
                                    "0": "Four Blondes",
                                    "1": "2.8",
                                    "2": "57",
                                    "3": "29315",
                                    "4": "6613"
                                },
                                {
                                    "0": "Four Blondes",
                                    "1": "2.8",
                                    "2": "57",
                                    "3": "30245",
                                    "4": "6613"
                                },
                                {
                                    "0": "Four Blondes",
                                    "1": "2.8",
                                    "2": "57",
                                    "3": "36128",
                                    "4": "6613"
                                },
                                {
                                    "0": "Four Blondes",
                                    "1": "2.8",
                                    "2": "57",
                                    "3": "36554",
                                    "4": "6613"
                                },
                                {
                                    "0": "Four Blondes",
                                    "1": "2.8",
                                    "2": "57",
                                    "3": "38159",
                                    "4": "6613"
                                },
                                {
                                    "0": "Four Blondes",
                                    "1": "2.8",
                                    "2": "57",
                                    "3": "38800",
                                    "4": "6613"
                                },
                                {
                                    "0": "Four Blondes",
                                    "1": "2.8",
                                    "2": "57",
                                    "3": "40361",
                                    "4": "6613"
                                },
                                {
                                    "0": "Four Blondes",
                                    "1": "2.8",
                                    "2": "57",
                                    "3": "40529",
                                    "4": "6613"
                                },
                                {
                                    "0": "Four Blondes",
                                    "1": "2.8",
                                    "2": "57",
                                    "3": "41485",
                                    "4": "6613"
                                },
                                {
                                    "0": "Four Blondes",
                                    "1": "2.8",
                                    "2": "57",
                                    "3": "42706",
                                    "4": "6613"
                                },
                                {
                                    "0": "Four Blondes",
                                    "1": "2.8",
                                    "2": "57",
                                    "3": "45206",
                                    "4": "6613"
                                },
                                {
                                    "0": "Four Blondes",
                                    "1": "2.8",
                                    "2": "57",
                                    "3": "45689",
                                    "4": "6613"
                                },
                                {
                                    "0": "Four Blondes",
                                    "1": "2.8",
                                    "2": "57",
                                    "3": "49499",
                                    "4": "6613"
                                },
                                {
                                    "0": "Four Blondes",
                                    "1": "2.8",
                                    "2": "57",
                                    "3": "51105",
                                    "4": "6613"
                                },
                                {
                                    "0": "Four Blondes",
                                    "1": "2.8",
                                    "2": "57",
                                    "3": "51671",
                                    "4": "6613"
                                },
                                {
                                    "0": "Four Blondes",
                                    "1": "2.8",
                                    "2": "57",
                                    "3": "52109",
                                    "4": "6613"
                                },
                                {
                                    "0": "The Emperor's Children",
                                    "1": "2.93",
                                    "2": "45",
                                    "3": "7860",
                                    "4": "3648"
                                },
                                {
                                    "0": "The Emperor's Children",
                                    "1": "2.93",
                                    "2": "45",
                                    "3": "11320",
                                    "4": "3648"
                                },
                                {
                                    "0": "The Emperor's Children",
                                    "1": "2.93",
                                    "2": "45",
                                    "3": "12686",
                                    "4": "3648"
                                },
                                {
                                    "0": "The Emperor's Children",
                                    "1": "2.93",
                                    "2": "45",
                                    "3": "12729",
                                    "4": "3648"
                                },
                                {
                                    "0": "The Emperor's Children",
                                    "1": "2.93",
                                    "2": "45",
                                    "3": "12891",
                                    "4": "3648"
                                },
                                {
                                    "0": "The Emperor's Children",
                                    "1": "2.93",
                                    "2": "45",
                                    "3": "16933",
                                    "4": "3648"
                                },
                                {
                                    "0": "The Emperor's Children",
                                    "1": "2.93",
                                    "2": "45",
                                    "3": "17093",
                                    "4": "3648"
                                },
                                {
                                    "0": "The Emperor's Children",
                                    "1": "2.93",
                                    "2": "45",
                                    "3": "24036",
                                    "4": "3648"
                                },
                                {
                                    "0": "The Emperor's Children",
                                    "1": "2.93",
                                    "2": "45",
                                    "3": "35122",
                                    "4": "3648"
                                },
                                {
                                    "0": "The Emperor's Children",
                                    "1": "2.93",
                                    "2": "45",
                                    "3": "36022",
                                    "4": "3648"
                                },
                                {
                                    "0": "The Emperor's Children",
                                    "1": "2.93",
                                    "2": "45",
                                    "3": "36952",
                                    "4": "3648"
                                },
                                {
                                    "0": "The Emperor's Children",
                                    "1": "2.93",
                                    "2": "45",
                                    "3": "38430",
                                    "4": "3648"
                                },
                                {
                                    "0": "The Emperor's Children",
                                    "1": "2.93",
                                    "2": "45",
                                    "3": "39414",
                                    "4": "3648"
                                },
                                {
                                    "0": "The Emperor's Children",
                                    "1": "2.93",
                                    "2": "45",
                                    "3": "45261",
                                    "4": "3648"
                                },
                                {
                                    "0": "The Emperor's Children",
                                    "1": "2.93",
                                    "2": "45",
                                    "3": "45497",
                                    "4": "3648"
                                },
                                {
                                    "0": "The Emperor's Children",
                                    "1": "2.93",
                                    "2": "45",
                                    "3": "45747",
                                    "4": "3648"
                                },
                                {
                                    "0": "The Emperor's Children",
                                    "1": "2.93",
                                    "2": "45",
                                    "3": "48502",
                                    "4": "3648"
                                },
                                {
                                    "0": "The Emperor's Children",
                                    "1": "2.93",
                                    "2": "45",
                                    "3": "49233",
                                    "4": "3648"
                                }
                            ]
                        },
                        "text/html": "<table><tr><th>title</th><th>average_rating</th><th>books_count</th><th>user_id</th><th>book_id</th></tr><tr><td>Four Blondes</td><td>2.8</td><td>57</td><td>449</td><td>6613</td></tr><tr><td>Four Blondes</td><td>2.8</td><td>57</td><td>1378</td><td>6613</td></tr><tr><td>Four Blondes</td><td>2.8</td><td>57</td><td>6465</td><td>6613</td></tr><tr><td>Four Blondes</td><td>2.8</td><td>57</td><td>6700</td><td>6613</td></tr><tr><td>Four Blondes</td><td>2.8</td><td>57</td><td>7830</td><td>6613</td></tr><tr><td>Four Blondes</td><td>2.8</td><td>57</td><td>10085</td><td>6613</td></tr><tr><td>Four Blondes</td><td>2.8</td><td>57</td><td>16298</td><td>6613</td></tr><tr><td>Four Blondes</td><td>2.8</td><td>57</td><td>16845</td><td>6613</td></tr><tr><td>Four Blondes</td><td>2.8</td><td>57</td><td>17470</td><td>6613</td></tr><tr><td>Four Blondes</td><td>2.8</td><td>57</td><td>19763</td><td>6613</td></tr><tr><td>Four Blondes</td><td>2.8</td><td>57</td><td>21938</td><td>6613</td></tr><tr><td>Four Blondes</td><td>2.8</td><td>57</td><td>22289</td><td>6613</td></tr><tr><td>Four Blondes</td><td>2.8</td><td>57</td><td>23758</td><td>6613</td></tr><tr><td>Four Blondes</td><td>2.8</td><td>57</td><td>27874</td><td>6613</td></tr><tr><td>Four Blondes</td><td>2.8</td><td>57</td><td>28690</td><td>6613</td></tr><tr><td>Four Blondes</td><td>2.8</td><td>57</td><td>29023</td><td>6613</td></tr><tr><td>Four Blondes</td><td>2.8</td><td>57</td><td>29315</td><td>6613</td></tr><tr><td>Four Blondes</td><td>2.8</td><td>57</td><td>30245</td><td>6613</td></tr><tr><td>Four Blondes</td><td>2.8</td><td>57</td><td>36128</td><td>6613</td></tr><tr><td>Four Blondes</td><td>2.8</td><td>57</td><td>36554</td><td>6613</td></tr><tr><td>Four Blondes</td><td>2.8</td><td>57</td><td>38159</td><td>6613</td></tr><tr><td>Four Blondes</td><td>2.8</td><td>57</td><td>38800</td><td>6613</td></tr><tr><td>Four Blondes</td><td>2.8</td><td>57</td><td>40361</td><td>6613</td></tr><tr><td>Four Blondes</td><td>2.8</td><td>57</td><td>40529</td><td>6613</td></tr><tr><td>Four Blondes</td><td>2.8</td><td>57</td><td>41485</td><td>6613</td></tr><tr><td>Four Blondes</td><td>2.8</td><td>57</td><td>42706</td><td>6613</td></tr><tr><td>Four Blondes</td><td>2.8</td><td>57</td><td>45206</td><td>6613</td></tr><tr><td>Four Blondes</td><td>2.8</td><td>57</td><td>45689</td><td>6613</td></tr><tr><td>Four Blondes</td><td>2.8</td><td>57</td><td>49499</td><td>6613</td></tr><tr><td>Four Blondes</td><td>2.8</td><td>57</td><td>51105</td><td>6613</td></tr><tr><td>Four Blondes</td><td>2.8</td><td>57</td><td>51671</td><td>6613</td></tr><tr><td>Four Blondes</td><td>2.8</td><td>57</td><td>52109</td><td>6613</td></tr><tr><td>The Emperor's Children</td><td>2.93</td><td>45</td><td>7860</td><td>3648</td></tr><tr><td>The Emperor's Children</td><td>2.93</td><td>45</td><td>11320</td><td>3648</td></tr><tr><td>The Emperor's Children</td><td>2.93</td><td>45</td><td>12686</td><td>3648</td></tr><tr><td>The Emperor's Children</td><td>2.93</td><td>45</td><td>12729</td><td>3648</td></tr><tr><td>The Emperor's Children</td><td>2.93</td><td>45</td><td>12891</td><td>3648</td></tr><tr><td>The Emperor's Children</td><td>2.93</td><td>45</td><td>16933</td><td>3648</td></tr><tr><td>The Emperor's Children</td><td>2.93</td><td>45</td><td>17093</td><td>3648</td></tr><tr><td>The Emperor's Children</td><td>2.93</td><td>45</td><td>24036</td><td>3648</td></tr><tr><td>The Emperor's Children</td><td>2.93</td><td>45</td><td>35122</td><td>3648</td></tr><tr><td>The Emperor's Children</td><td>2.93</td><td>45</td><td>36022</td><td>3648</td></tr><tr><td>The Emperor's Children</td><td>2.93</td><td>45</td><td>36952</td><td>3648</td></tr><tr><td>The Emperor's Children</td><td>2.93</td><td>45</td><td>38430</td><td>3648</td></tr><tr><td>The Emperor's Children</td><td>2.93</td><td>45</td><td>39414</td><td>3648</td></tr><tr><td>The Emperor's Children</td><td>2.93</td><td>45</td><td>45261</td><td>3648</td></tr><tr><td>The Emperor's Children</td><td>2.93</td><td>45</td><td>45497</td><td>3648</td></tr><tr><td>The Emperor's Children</td><td>2.93</td><td>45</td><td>45747</td><td>3648</td></tr><tr><td>The Emperor's Children</td><td>2.93</td><td>45</td><td>48502</td><td>3648</td></tr><tr><td>The Emperor's Children</td><td>2.93</td><td>45</td><td>49233</td><td>3648</td></tr></table>"
                    },
                    "metadata": {}
                }
            ],
            "execution_count": 17
        },
        {
            "cell_type": "markdown",
            "source": [
                "## **QUESTION 2:** Exploring **RIGHT** joins with the **books** and **to\\_read** tables\n",
                "\n",
                "You will need to uncomment the Query to answer the question.\n",
                "\n",
                "**Part A:** Looking at the query, which table is the 'Left' and which is the 'Right'?\n",
                "\n",
                "> Your Answer: the books table in the left and the to\\_read table is the right.\n",
                "\n",
                "**Part B:** How do the RIGHT-joined tables differ from the LEFT-joined tables in Question 1?  \n",
                "\n",
                "> Your Answer: The right joined table has all the rows for the right table (the to\\_read table) and for rows where there is no matching data in the books table, the values are filled in with \"NULL\". This is bascially the opposite of what happened in the left join in Q1, where all missing values from the to\\_read table were filled in with \"NULL\" if there was no data for it in the matching row in the books table."
            ],
            "metadata": {
                "azdata_cell_guid": "c1e417d9-89d2-4a7d-ab46-b43c8bddc54f"
            },
            "attachments": {}
        },
        {
            "cell_type": "code",
            "source": [
                "\n",
                "-- Query 1: RIGHT JOIN\n",
                "SELECT top 50 b.title, b.average_rating, b.books_count, tr.user_id, tr.book_id\n",
                "FROM BooksDB.dbo.books AS b\n",
                "RIGHT JOIN BooksDB.dbo.to_read AS tr\n",
                "ON b.best_book_id = tr.book_id;\n",
                ""
            ],
            "metadata": {
                "azdata_cell_guid": "8cf020b8-2a76-46a6-acff-97eb1acc7fed",
                "tags": [],
                "language": "sql"
            },
            "outputs": [
                {
                    "output_type": "display_data",
                    "data": {
                        "text/html": "(50 rows affected)"
                    },
                    "metadata": {}
                },
                {
                    "output_type": "display_data",
                    "data": {
                        "text/html": "Total execution time: 00:00:00.175"
                    },
                    "metadata": {}
                },
                {
                    "output_type": "execute_result",
                    "execution_count": 18,
                    "data": {
                        "application/vnd.dataresource+json": {
                            "schema": {
                                "fields": [
                                    {
                                        "name": "title"
                                    },
                                    {
                                        "name": "average_rating"
                                    },
                                    {
                                        "name": "books_count"
                                    },
                                    {
                                        "name": "user_id"
                                    },
                                    {
                                        "name": "book_id"
                                    }
                                ]
                            },
                            "data": [
                                {
                                    "0": "Children of Dune (Dune Chronicles #3)",
                                    "1": "3.9",
                                    "2": "116",
                                    "3": "1",
                                    "4": "112"
                                },
                                {
                                    "0": "NULL",
                                    "1": "NULL",
                                    "2": "NULL",
                                    "3": "1",
                                    "4": "235"
                                },
                                {
                                    "0": "NULL",
                                    "1": "NULL",
                                    "2": "NULL",
                                    "3": "1",
                                    "4": "533"
                                },
                                {
                                    "0": "NULL",
                                    "1": "NULL",
                                    "2": "NULL",
                                    "3": "1",
                                    "4": "1198"
                                },
                                {
                                    "0": "NULL",
                                    "1": "NULL",
                                    "2": "NULL",
                                    "3": "1",
                                    "4": "1874"
                                },
                                {
                                    "0": "NULL",
                                    "1": "NULL",
                                    "2": "NULL",
                                    "3": "1",
                                    "4": "2058"
                                },
                                {
                                    "0": "NULL",
                                    "1": "NULL",
                                    "2": "NULL",
                                    "3": "1",
                                    "4": "3334"
                                },
                                {
                                    "0": "NULL",
                                    "1": "NULL",
                                    "2": "NULL",
                                    "3": "2",
                                    "4": "4"
                                },
                                {
                                    "0": "NULL",
                                    "1": "NULL",
                                    "2": "NULL",
                                    "3": "2",
                                    "4": "11"
                                },
                                {
                                    "0": "The Ultimate Hitchhiker's Guide to the Galaxy",
                                    "1": "4.37",
                                    "2": "32",
                                    "3": "2",
                                    "4": "13"
                                },
                                {
                                    "0": "NULL",
                                    "1": "NULL",
                                    "2": "NULL",
                                    "3": "2",
                                    "4": "16"
                                },
                                {
                                    "0": "NULL",
                                    "1": "NULL",
                                    "2": "NULL",
                                    "3": "2",
                                    "4": "92"
                                },
                                {
                                    "0": "Dune Messiah (Dune Chronicles #2)",
                                    "1": "3.86",
                                    "2": "140",
                                    "3": "2",
                                    "4": "106"
                                },
                                {
                                    "0": "NULL",
                                    "1": "NULL",
                                    "2": "NULL",
                                    "3": "2",
                                    "4": "113"
                                },
                                {
                                    "0": "NULL",
                                    "1": "NULL",
                                    "2": "NULL",
                                    "3": "2",
                                    "4": "233"
                                },
                                {
                                    "0": "NULL",
                                    "1": "NULL",
                                    "2": "NULL",
                                    "3": "2",
                                    "4": "247"
                                },
                                {
                                    "0": "NULL",
                                    "1": "NULL",
                                    "2": "NULL",
                                    "3": "2",
                                    "4": "380"
                                },
                                {
                                    "0": "NULL",
                                    "1": "NULL",
                                    "2": "NULL",
                                    "3": "2",
                                    "4": "408"
                                },
                                {
                                    "0": "NULL",
                                    "1": "NULL",
                                    "2": "NULL",
                                    "3": "2",
                                    "4": "439"
                                },
                                {
                                    "0": "NULL",
                                    "1": "NULL",
                                    "2": "NULL",
                                    "3": "2",
                                    "4": "479"
                                },
                                {
                                    "0": "NULL",
                                    "1": "NULL",
                                    "2": "NULL",
                                    "3": "2",
                                    "4": "516"
                                },
                                {
                                    "0": "NULL",
                                    "1": "NULL",
                                    "2": "NULL",
                                    "3": "2",
                                    "4": "619"
                                },
                                {
                                    "0": "NULL",
                                    "1": "NULL",
                                    "2": "NULL",
                                    "3": "2",
                                    "4": "1069"
                                },
                                {
                                    "0": "The Iliad",
                                    "1": "3.83",
                                    "2": "1726",
                                    "3": "2",
                                    "4": "1371"
                                },
                                {
                                    "0": "NULL",
                                    "1": "NULL",
                                    "2": "NULL",
                                    "3": "2",
                                    "4": "1384"
                                },
                                {
                                    "0": "NULL",
                                    "1": "NULL",
                                    "2": "NULL",
                                    "3": "2",
                                    "4": "1597"
                                },
                                {
                                    "0": "NULL",
                                    "1": "NULL",
                                    "2": "NULL",
                                    "3": "2",
                                    "4": "1926"
                                },
                                {
                                    "0": "NULL",
                                    "1": "NULL",
                                    "2": "NULL",
                                    "3": "2",
                                    "4": "1967"
                                },
                                {
                                    "0": "NULL",
                                    "1": "NULL",
                                    "2": "NULL",
                                    "3": "2",
                                    "4": "1969"
                                },
                                {
                                    "0": "NULL",
                                    "1": "NULL",
                                    "2": "NULL",
                                    "3": "2",
                                    "4": "2220"
                                },
                                {
                                    "0": "NULL",
                                    "1": "NULL",
                                    "2": "NULL",
                                    "3": "2",
                                    "4": "2388"
                                },
                                {
                                    "0": "NULL",
                                    "1": "NULL",
                                    "2": "NULL",
                                    "3": "2",
                                    "4": "3222"
                                },
                                {
                                    "0": "NULL",
                                    "1": "NULL",
                                    "2": "NULL",
                                    "3": "2",
                                    "4": "3227"
                                },
                                {
                                    "0": "NULL",
                                    "1": "NULL",
                                    "2": "NULL",
                                    "3": "2",
                                    "4": "3733"
                                },
                                {
                                    "0": "NULL",
                                    "1": "NULL",
                                    "2": "NULL",
                                    "3": "2",
                                    "4": "5418"
                                },
                                {
                                    "0": "NULL",
                                    "1": "NULL",
                                    "2": "NULL",
                                    "3": "2",
                                    "4": "6937"
                                },
                                {
                                    "0": "NULL",
                                    "1": "NULL",
                                    "2": "NULL",
                                    "3": "2",
                                    "4": "7146"
                                },
                                {
                                    "0": "NULL",
                                    "1": "NULL",
                                    "2": "NULL",
                                    "3": "2",
                                    "4": "7873"
                                },
                                {
                                    "0": "NULL",
                                    "1": "NULL",
                                    "2": "NULL",
                                    "3": "2",
                                    "4": "8417"
                                },
                                {
                                    "0": "Harry Potter Collection (Harry Potter, #1-6)",
                                    "1": "4.73",
                                    "2": "6",
                                    "3": "3",
                                    "4": "10"
                                },
                                {
                                    "0": "NULL",
                                    "1": "NULL",
                                    "2": "NULL",
                                    "3": "3",
                                    "4": "66"
                                },
                                {
                                    "0": "NULL",
                                    "1": "NULL",
                                    "2": "NULL",
                                    "3": "3",
                                    "4": "233"
                                },
                                {
                                    "0": "NULL",
                                    "1": "NULL",
                                    "2": "NULL",
                                    "3": "3",
                                    "4": "726"
                                },
                                {
                                    "0": "NULL",
                                    "1": "NULL",
                                    "2": "NULL",
                                    "3": "3",
                                    "4": "932"
                                },
                                {
                                    "0": "NULL",
                                    "1": "NULL",
                                    "2": "NULL",
                                    "3": "3",
                                    "4": "1146"
                                },
                                {
                                    "0": "NULL",
                                    "1": "NULL",
                                    "2": "NULL",
                                    "3": "3",
                                    "4": "2439"
                                },
                                {
                                    "0": "NULL",
                                    "1": "NULL",
                                    "2": "NULL",
                                    "3": "3",
                                    "4": "3566"
                                },
                                {
                                    "0": "NULL",
                                    "1": "NULL",
                                    "2": "NULL",
                                    "3": "3",
                                    "4": "4582"
                                },
                                {
                                    "0": "NULL",
                                    "1": "NULL",
                                    "2": "NULL",
                                    "3": "3",
                                    "4": "5448"
                                },
                                {
                                    "0": "NULL",
                                    "1": "NULL",
                                    "2": "NULL",
                                    "3": "3",
                                    "4": "5765"
                                }
                            ]
                        },
                        "text/html": "<table><tr><th>title</th><th>average_rating</th><th>books_count</th><th>user_id</th><th>book_id</th></tr><tr><td>Children of Dune (Dune Chronicles #3)</td><td>3.9</td><td>116</td><td>1</td><td>112</td></tr><tr><td>NULL</td><td>NULL</td><td>NULL</td><td>1</td><td>235</td></tr><tr><td>NULL</td><td>NULL</td><td>NULL</td><td>1</td><td>533</td></tr><tr><td>NULL</td><td>NULL</td><td>NULL</td><td>1</td><td>1198</td></tr><tr><td>NULL</td><td>NULL</td><td>NULL</td><td>1</td><td>1874</td></tr><tr><td>NULL</td><td>NULL</td><td>NULL</td><td>1</td><td>2058</td></tr><tr><td>NULL</td><td>NULL</td><td>NULL</td><td>1</td><td>3334</td></tr><tr><td>NULL</td><td>NULL</td><td>NULL</td><td>2</td><td>4</td></tr><tr><td>NULL</td><td>NULL</td><td>NULL</td><td>2</td><td>11</td></tr><tr><td>The Ultimate Hitchhiker's Guide to the Galaxy</td><td>4.37</td><td>32</td><td>2</td><td>13</td></tr><tr><td>NULL</td><td>NULL</td><td>NULL</td><td>2</td><td>16</td></tr><tr><td>NULL</td><td>NULL</td><td>NULL</td><td>2</td><td>92</td></tr><tr><td>Dune Messiah (Dune Chronicles #2)</td><td>3.86</td><td>140</td><td>2</td><td>106</td></tr><tr><td>NULL</td><td>NULL</td><td>NULL</td><td>2</td><td>113</td></tr><tr><td>NULL</td><td>NULL</td><td>NULL</td><td>2</td><td>233</td></tr><tr><td>NULL</td><td>NULL</td><td>NULL</td><td>2</td><td>247</td></tr><tr><td>NULL</td><td>NULL</td><td>NULL</td><td>2</td><td>380</td></tr><tr><td>NULL</td><td>NULL</td><td>NULL</td><td>2</td><td>408</td></tr><tr><td>NULL</td><td>NULL</td><td>NULL</td><td>2</td><td>439</td></tr><tr><td>NULL</td><td>NULL</td><td>NULL</td><td>2</td><td>479</td></tr><tr><td>NULL</td><td>NULL</td><td>NULL</td><td>2</td><td>516</td></tr><tr><td>NULL</td><td>NULL</td><td>NULL</td><td>2</td><td>619</td></tr><tr><td>NULL</td><td>NULL</td><td>NULL</td><td>2</td><td>1069</td></tr><tr><td>The Iliad</td><td>3.83</td><td>1726</td><td>2</td><td>1371</td></tr><tr><td>NULL</td><td>NULL</td><td>NULL</td><td>2</td><td>1384</td></tr><tr><td>NULL</td><td>NULL</td><td>NULL</td><td>2</td><td>1597</td></tr><tr><td>NULL</td><td>NULL</td><td>NULL</td><td>2</td><td>1926</td></tr><tr><td>NULL</td><td>NULL</td><td>NULL</td><td>2</td><td>1967</td></tr><tr><td>NULL</td><td>NULL</td><td>NULL</td><td>2</td><td>1969</td></tr><tr><td>NULL</td><td>NULL</td><td>NULL</td><td>2</td><td>2220</td></tr><tr><td>NULL</td><td>NULL</td><td>NULL</td><td>2</td><td>2388</td></tr><tr><td>NULL</td><td>NULL</td><td>NULL</td><td>2</td><td>3222</td></tr><tr><td>NULL</td><td>NULL</td><td>NULL</td><td>2</td><td>3227</td></tr><tr><td>NULL</td><td>NULL</td><td>NULL</td><td>2</td><td>3733</td></tr><tr><td>NULL</td><td>NULL</td><td>NULL</td><td>2</td><td>5418</td></tr><tr><td>NULL</td><td>NULL</td><td>NULL</td><td>2</td><td>6937</td></tr><tr><td>NULL</td><td>NULL</td><td>NULL</td><td>2</td><td>7146</td></tr><tr><td>NULL</td><td>NULL</td><td>NULL</td><td>2</td><td>7873</td></tr><tr><td>NULL</td><td>NULL</td><td>NULL</td><td>2</td><td>8417</td></tr><tr><td>Harry Potter Collection (Harry Potter, #1-6)</td><td>4.73</td><td>6</td><td>3</td><td>10</td></tr><tr><td>NULL</td><td>NULL</td><td>NULL</td><td>3</td><td>66</td></tr><tr><td>NULL</td><td>NULL</td><td>NULL</td><td>3</td><td>233</td></tr><tr><td>NULL</td><td>NULL</td><td>NULL</td><td>3</td><td>726</td></tr><tr><td>NULL</td><td>NULL</td><td>NULL</td><td>3</td><td>932</td></tr><tr><td>NULL</td><td>NULL</td><td>NULL</td><td>3</td><td>1146</td></tr><tr><td>NULL</td><td>NULL</td><td>NULL</td><td>3</td><td>2439</td></tr><tr><td>NULL</td><td>NULL</td><td>NULL</td><td>3</td><td>3566</td></tr><tr><td>NULL</td><td>NULL</td><td>NULL</td><td>3</td><td>4582</td></tr><tr><td>NULL</td><td>NULL</td><td>NULL</td><td>3</td><td>5448</td></tr><tr><td>NULL</td><td>NULL</td><td>NULL</td><td>3</td><td>5765</td></tr></table>"
                    },
                    "metadata": {}
                }
            ],
            "execution_count": 18
        },
        {
            "cell_type": "markdown",
            "source": [
                "## **QUESTION 3:** Exploring FULL JOINS with the **books** and **to\\_read** tables\n",
                "\n",
                "You will need to uncomment the Query to answer the question.\n",
                "\n",
                "**Part A:**  Look at the table and explore how it was populated.  Try manipulating the query to better understand how this table works.  Try adding a WHERE clause, or ORDER BY a column on the **books** table.  Based on your exploration, can you think of when you might want a FULL join rather than a LEFT, RIGHT, or INNER?\n",
                "\n",
                "> Your Answer: This table contains all the joined rows from both the books table and the to\\_read table, regardless of if it has recorded value or not. All missing data is filled in with \"NULL\" where column data is missing for the row/entry. You might want to use a full join recognize patterns in missing data or popular titles, authors etc."
            ],
            "metadata": {
                "azdata_cell_guid": "8f6b8f22-3e5a-4b87-a2f2-07279f1deb94"
            },
            "attachments": {}
        },
        {
            "cell_type": "code",
            "source": [
                "\n",
                "-- FULL JOIN\n",
                "SELECT TOP 30 b.title, b.average_rating, b.books_count,tr.user_id, tr.book_id\n",
                "FROM BooksDB.dbo.books AS b\n",
                "FULL JOIN BooksDB.dbo.to_read AS tr\n",
                "ON b.book_id = tr.book_id\n",
                "\n",
                "WHERE b.average_rating IS NOT NULL\n",
                "ORDER BY b.average_rating"
            ],
            "metadata": {
                "azdata_cell_guid": "7c2a3dff-ef55-4222-aef0-7c0ab4f942eb",
                "tags": [],
                "language": "sql"
            },
            "outputs": [
                {
                    "output_type": "display_data",
                    "data": {
                        "text/html": "(30 rows affected)"
                    },
                    "metadata": {}
                },
                {
                    "output_type": "display_data",
                    "data": {
                        "text/html": "Total execution time: 00:00:02.813"
                    },
                    "metadata": {}
                },
                {
                    "output_type": "execute_result",
                    "execution_count": 19,
                    "data": {
                        "application/vnd.dataresource+json": {
                            "schema": {
                                "fields": [
                                    {
                                        "name": "title"
                                    },
                                    {
                                        "name": "average_rating"
                                    },
                                    {
                                        "name": "books_count"
                                    },
                                    {
                                        "name": "user_id"
                                    },
                                    {
                                        "name": "book_id"
                                    }
                                ]
                            },
                            "data": [
                                {
                                    "0": "One Night at the Call Center",
                                    "1": "2.47",
                                    "2": "25",
                                    "3": "NULL",
                                    "4": "NULL"
                                },
                                {
                                    "0": "The Almost Moon",
                                    "1": "2.67",
                                    "2": "63",
                                    "3": "NULL",
                                    "4": "NULL"
                                },
                                {
                                    "0": "The Finkler Question",
                                    "1": "2.76",
                                    "2": "45",
                                    "3": "NULL",
                                    "4": "NULL"
                                },
                                {
                                    "0": "Four Blondes",
                                    "1": "2.8",
                                    "2": "57",
                                    "3": "449",
                                    "4": "6613"
                                },
                                {
                                    "0": "Four Blondes",
                                    "1": "2.8",
                                    "2": "57",
                                    "3": "1378",
                                    "4": "6613"
                                },
                                {
                                    "0": "Four Blondes",
                                    "1": "2.8",
                                    "2": "57",
                                    "3": "6465",
                                    "4": "6613"
                                },
                                {
                                    "0": "Four Blondes",
                                    "1": "2.8",
                                    "2": "57",
                                    "3": "6700",
                                    "4": "6613"
                                },
                                {
                                    "0": "Four Blondes",
                                    "1": "2.8",
                                    "2": "57",
                                    "3": "7830",
                                    "4": "6613"
                                },
                                {
                                    "0": "Four Blondes",
                                    "1": "2.8",
                                    "2": "57",
                                    "3": "10085",
                                    "4": "6613"
                                },
                                {
                                    "0": "Four Blondes",
                                    "1": "2.8",
                                    "2": "57",
                                    "3": "16298",
                                    "4": "6613"
                                },
                                {
                                    "0": "Four Blondes",
                                    "1": "2.8",
                                    "2": "57",
                                    "3": "16845",
                                    "4": "6613"
                                },
                                {
                                    "0": "Four Blondes",
                                    "1": "2.8",
                                    "2": "57",
                                    "3": "17470",
                                    "4": "6613"
                                },
                                {
                                    "0": "Four Blondes",
                                    "1": "2.8",
                                    "2": "57",
                                    "3": "19763",
                                    "4": "6613"
                                },
                                {
                                    "0": "Four Blondes",
                                    "1": "2.8",
                                    "2": "57",
                                    "3": "21938",
                                    "4": "6613"
                                },
                                {
                                    "0": "Four Blondes",
                                    "1": "2.8",
                                    "2": "57",
                                    "3": "22289",
                                    "4": "6613"
                                },
                                {
                                    "0": "Four Blondes",
                                    "1": "2.8",
                                    "2": "57",
                                    "3": "23758",
                                    "4": "6613"
                                },
                                {
                                    "0": "Four Blondes",
                                    "1": "2.8",
                                    "2": "57",
                                    "3": "27874",
                                    "4": "6613"
                                },
                                {
                                    "0": "Four Blondes",
                                    "1": "2.8",
                                    "2": "57",
                                    "3": "28690",
                                    "4": "6613"
                                },
                                {
                                    "0": "Four Blondes",
                                    "1": "2.8",
                                    "2": "57",
                                    "3": "29023",
                                    "4": "6613"
                                },
                                {
                                    "0": "Four Blondes",
                                    "1": "2.8",
                                    "2": "57",
                                    "3": "29315",
                                    "4": "6613"
                                },
                                {
                                    "0": "Four Blondes",
                                    "1": "2.8",
                                    "2": "57",
                                    "3": "30245",
                                    "4": "6613"
                                },
                                {
                                    "0": "Four Blondes",
                                    "1": "2.8",
                                    "2": "57",
                                    "3": "36128",
                                    "4": "6613"
                                },
                                {
                                    "0": "Four Blondes",
                                    "1": "2.8",
                                    "2": "57",
                                    "3": "36554",
                                    "4": "6613"
                                },
                                {
                                    "0": "Four Blondes",
                                    "1": "2.8",
                                    "2": "57",
                                    "3": "38159",
                                    "4": "6613"
                                },
                                {
                                    "0": "Four Blondes",
                                    "1": "2.8",
                                    "2": "57",
                                    "3": "38800",
                                    "4": "6613"
                                },
                                {
                                    "0": "Four Blondes",
                                    "1": "2.8",
                                    "2": "57",
                                    "3": "40361",
                                    "4": "6613"
                                },
                                {
                                    "0": "Four Blondes",
                                    "1": "2.8",
                                    "2": "57",
                                    "3": "40529",
                                    "4": "6613"
                                },
                                {
                                    "0": "Four Blondes",
                                    "1": "2.8",
                                    "2": "57",
                                    "3": "41485",
                                    "4": "6613"
                                },
                                {
                                    "0": "Four Blondes",
                                    "1": "2.8",
                                    "2": "57",
                                    "3": "42706",
                                    "4": "6613"
                                },
                                {
                                    "0": "Four Blondes",
                                    "1": "2.8",
                                    "2": "57",
                                    "3": "45206",
                                    "4": "6613"
                                }
                            ]
                        },
                        "text/html": "<table><tr><th>title</th><th>average_rating</th><th>books_count</th><th>user_id</th><th>book_id</th></tr><tr><td>One Night at the Call Center</td><td>2.47</td><td>25</td><td>NULL</td><td>NULL</td></tr><tr><td>The Almost Moon</td><td>2.67</td><td>63</td><td>NULL</td><td>NULL</td></tr><tr><td>The Finkler Question</td><td>2.76</td><td>45</td><td>NULL</td><td>NULL</td></tr><tr><td>Four Blondes</td><td>2.8</td><td>57</td><td>449</td><td>6613</td></tr><tr><td>Four Blondes</td><td>2.8</td><td>57</td><td>1378</td><td>6613</td></tr><tr><td>Four Blondes</td><td>2.8</td><td>57</td><td>6465</td><td>6613</td></tr><tr><td>Four Blondes</td><td>2.8</td><td>57</td><td>6700</td><td>6613</td></tr><tr><td>Four Blondes</td><td>2.8</td><td>57</td><td>7830</td><td>6613</td></tr><tr><td>Four Blondes</td><td>2.8</td><td>57</td><td>10085</td><td>6613</td></tr><tr><td>Four Blondes</td><td>2.8</td><td>57</td><td>16298</td><td>6613</td></tr><tr><td>Four Blondes</td><td>2.8</td><td>57</td><td>16845</td><td>6613</td></tr><tr><td>Four Blondes</td><td>2.8</td><td>57</td><td>17470</td><td>6613</td></tr><tr><td>Four Blondes</td><td>2.8</td><td>57</td><td>19763</td><td>6613</td></tr><tr><td>Four Blondes</td><td>2.8</td><td>57</td><td>21938</td><td>6613</td></tr><tr><td>Four Blondes</td><td>2.8</td><td>57</td><td>22289</td><td>6613</td></tr><tr><td>Four Blondes</td><td>2.8</td><td>57</td><td>23758</td><td>6613</td></tr><tr><td>Four Blondes</td><td>2.8</td><td>57</td><td>27874</td><td>6613</td></tr><tr><td>Four Blondes</td><td>2.8</td><td>57</td><td>28690</td><td>6613</td></tr><tr><td>Four Blondes</td><td>2.8</td><td>57</td><td>29023</td><td>6613</td></tr><tr><td>Four Blondes</td><td>2.8</td><td>57</td><td>29315</td><td>6613</td></tr><tr><td>Four Blondes</td><td>2.8</td><td>57</td><td>30245</td><td>6613</td></tr><tr><td>Four Blondes</td><td>2.8</td><td>57</td><td>36128</td><td>6613</td></tr><tr><td>Four Blondes</td><td>2.8</td><td>57</td><td>36554</td><td>6613</td></tr><tr><td>Four Blondes</td><td>2.8</td><td>57</td><td>38159</td><td>6613</td></tr><tr><td>Four Blondes</td><td>2.8</td><td>57</td><td>38800</td><td>6613</td></tr><tr><td>Four Blondes</td><td>2.8</td><td>57</td><td>40361</td><td>6613</td></tr><tr><td>Four Blondes</td><td>2.8</td><td>57</td><td>40529</td><td>6613</td></tr><tr><td>Four Blondes</td><td>2.8</td><td>57</td><td>41485</td><td>6613</td></tr><tr><td>Four Blondes</td><td>2.8</td><td>57</td><td>42706</td><td>6613</td></tr><tr><td>Four Blondes</td><td>2.8</td><td>57</td><td>45206</td><td>6613</td></tr></table>"
                    },
                    "metadata": {}
                }
            ],
            "execution_count": 19
        },
        {
            "cell_type": "markdown",
            "source": [
                "## **QUESTION 4:** Exploring INNER Joins with the **books** and **to\\_read** tables\n",
                "\n",
                "You will need to uncomment the Query to answer the question.\n",
                "\n",
                "**Part A:**  What does an inner join do?\n",
                "\n",
                "> <span style=\"background-color: rgba(127, 127, 127, 0.1); font-family: -apple-system, BlinkMacSystemFont, sans-serif;\">Your Answer: Inner join looks at both tables and creates one that only contains rows both tables have in common and have data in them - no null values.</span>\n",
                "\n",
                "<span style=\"background-color: rgba(127, 127, 127, 0.1); font-family: -apple-system, BlinkMacSystemFont, sans-serif;\"><b>Part B:</b>&nbsp;Currently this table has an <b>'IS NOT NULL'</b> in the <b>WHERE</b> clause.&nbsp; Is this necessary for this table?&nbsp; Why or Why not?&nbsp;</span> \n",
                "\n",
                "> Your Answer: It is not needed becasuse this type of join automatically excludes rows that have null values for any included columns. \n",
                "\n",
                "**Part C:**  When using SQL, you are usually returning much larger tables so every line of code will add to the compilation and return time.  Rewrite this inner join query so that it contains no redundant code.   \n",
                "\n",
                "> Your Answer:  Update the query in the code box below."
            ],
            "metadata": {
                "azdata_cell_guid": "4dab11ce-7995-4444-92dd-4cb2c0bc02c8"
            },
            "attachments": {}
        },
        {
            "cell_type": "code",
            "source": [
                "\n",
                "-- INNER JOIN\n",
                "SELECT TOP 30 b.title, b.average_rating, b.books_count,tr.user_id, tr.book_id\n",
                "FROM BooksDB.dbo.books AS b\n",
                "INNER JOIN BooksDB.dbo.to_read AS tr\n",
                "ON b.book_id = tr.book_id\n",
                "ORDER BY tr.book_id\n",
                ""
            ],
            "metadata": {
                "azdata_cell_guid": "66d430ab-18aa-4a29-a32d-0585445e417c",
                "tags": [],
                "language": "sql"
            },
            "outputs": [
                {
                    "output_type": "display_data",
                    "data": {
                        "text/html": "(30 rows affected)"
                    },
                    "metadata": {}
                },
                {
                    "output_type": "display_data",
                    "data": {
                        "text/html": "Total execution time: 00:00:00.131"
                    },
                    "metadata": {}
                },
                {
                    "output_type": "execute_result",
                    "execution_count": 20,
                    "data": {
                        "application/vnd.dataresource+json": {
                            "schema": {
                                "fields": [
                                    {
                                        "name": "title"
                                    },
                                    {
                                        "name": "average_rating"
                                    },
                                    {
                                        "name": "books_count"
                                    },
                                    {
                                        "name": "user_id"
                                    },
                                    {
                                        "name": "book_id"
                                    }
                                ]
                            },
                            "data": [
                                {
                                    "0": "Harry Potter and the Half-Blood Prince (Harry Potter, #6)",
                                    "1": "4.54",
                                    "2": "275",
                                    "3": "12",
                                    "4": "1"
                                },
                                {
                                    "0": "Harry Potter and the Half-Blood Prince (Harry Potter, #6)",
                                    "1": "4.54",
                                    "2": "275",
                                    "3": "192",
                                    "4": "1"
                                },
                                {
                                    "0": "Harry Potter and the Half-Blood Prince (Harry Potter, #6)",
                                    "1": "4.54",
                                    "2": "275",
                                    "3": "202",
                                    "4": "1"
                                },
                                {
                                    "0": "Harry Potter and the Half-Blood Prince (Harry Potter, #6)",
                                    "1": "4.54",
                                    "2": "275",
                                    "3": "244",
                                    "4": "1"
                                },
                                {
                                    "0": "Harry Potter and the Half-Blood Prince (Harry Potter, #6)",
                                    "1": "4.54",
                                    "2": "275",
                                    "3": "253",
                                    "4": "1"
                                },
                                {
                                    "0": "Harry Potter and the Half-Blood Prince (Harry Potter, #6)",
                                    "1": "4.54",
                                    "2": "275",
                                    "3": "350",
                                    "4": "1"
                                },
                                {
                                    "0": "Harry Potter and the Half-Blood Prince (Harry Potter, #6)",
                                    "1": "4.54",
                                    "2": "275",
                                    "3": "478",
                                    "4": "1"
                                },
                                {
                                    "0": "Harry Potter and the Half-Blood Prince (Harry Potter, #6)",
                                    "1": "4.54",
                                    "2": "275",
                                    "3": "511",
                                    "4": "1"
                                },
                                {
                                    "0": "Harry Potter and the Half-Blood Prince (Harry Potter, #6)",
                                    "1": "4.54",
                                    "2": "275",
                                    "3": "525",
                                    "4": "1"
                                },
                                {
                                    "0": "Harry Potter and the Half-Blood Prince (Harry Potter, #6)",
                                    "1": "4.54",
                                    "2": "275",
                                    "3": "527",
                                    "4": "1"
                                },
                                {
                                    "0": "Harry Potter and the Half-Blood Prince (Harry Potter, #6)",
                                    "1": "4.54",
                                    "2": "275",
                                    "3": "552",
                                    "4": "1"
                                },
                                {
                                    "0": "Harry Potter and the Half-Blood Prince (Harry Potter, #6)",
                                    "1": "4.54",
                                    "2": "275",
                                    "3": "644",
                                    "4": "1"
                                },
                                {
                                    "0": "Harry Potter and the Half-Blood Prince (Harry Potter, #6)",
                                    "1": "4.54",
                                    "2": "275",
                                    "3": "754",
                                    "4": "1"
                                },
                                {
                                    "0": "Harry Potter and the Half-Blood Prince (Harry Potter, #6)",
                                    "1": "4.54",
                                    "2": "275",
                                    "3": "826",
                                    "4": "1"
                                },
                                {
                                    "0": "Harry Potter and the Half-Blood Prince (Harry Potter, #6)",
                                    "1": "4.54",
                                    "2": "275",
                                    "3": "1043",
                                    "4": "1"
                                },
                                {
                                    "0": "Harry Potter and the Half-Blood Prince (Harry Potter, #6)",
                                    "1": "4.54",
                                    "2": "275",
                                    "3": "1205",
                                    "4": "1"
                                },
                                {
                                    "0": "Harry Potter and the Half-Blood Prince (Harry Potter, #6)",
                                    "1": "4.54",
                                    "2": "275",
                                    "3": "1442",
                                    "4": "1"
                                },
                                {
                                    "0": "Harry Potter and the Half-Blood Prince (Harry Potter, #6)",
                                    "1": "4.54",
                                    "2": "275",
                                    "3": "1470",
                                    "4": "1"
                                },
                                {
                                    "0": "Harry Potter and the Half-Blood Prince (Harry Potter, #6)",
                                    "1": "4.54",
                                    "2": "275",
                                    "3": "1712",
                                    "4": "1"
                                },
                                {
                                    "0": "Harry Potter and the Half-Blood Prince (Harry Potter, #6)",
                                    "1": "4.54",
                                    "2": "275",
                                    "3": "1814",
                                    "4": "1"
                                },
                                {
                                    "0": "Harry Potter and the Half-Blood Prince (Harry Potter, #6)",
                                    "1": "4.54",
                                    "2": "275",
                                    "3": "1919",
                                    "4": "1"
                                },
                                {
                                    "0": "Harry Potter and the Half-Blood Prince (Harry Potter, #6)",
                                    "1": "4.54",
                                    "2": "275",
                                    "3": "2051",
                                    "4": "1"
                                },
                                {
                                    "0": "Harry Potter and the Half-Blood Prince (Harry Potter, #6)",
                                    "1": "4.54",
                                    "2": "275",
                                    "3": "2052",
                                    "4": "1"
                                },
                                {
                                    "0": "Harry Potter and the Half-Blood Prince (Harry Potter, #6)",
                                    "1": "4.54",
                                    "2": "275",
                                    "3": "2158",
                                    "4": "1"
                                },
                                {
                                    "0": "Harry Potter and the Half-Blood Prince (Harry Potter, #6)",
                                    "1": "4.54",
                                    "2": "275",
                                    "3": "2160",
                                    "4": "1"
                                },
                                {
                                    "0": "Harry Potter and the Half-Blood Prince (Harry Potter, #6)",
                                    "1": "4.54",
                                    "2": "275",
                                    "3": "2345",
                                    "4": "1"
                                },
                                {
                                    "0": "Harry Potter and the Half-Blood Prince (Harry Potter, #6)",
                                    "1": "4.54",
                                    "2": "275",
                                    "3": "2476",
                                    "4": "1"
                                },
                                {
                                    "0": "Harry Potter and the Half-Blood Prince (Harry Potter, #6)",
                                    "1": "4.54",
                                    "2": "275",
                                    "3": "2523",
                                    "4": "1"
                                },
                                {
                                    "0": "Harry Potter and the Half-Blood Prince (Harry Potter, #6)",
                                    "1": "4.54",
                                    "2": "275",
                                    "3": "2623",
                                    "4": "1"
                                },
                                {
                                    "0": "Harry Potter and the Half-Blood Prince (Harry Potter, #6)",
                                    "1": "4.54",
                                    "2": "275",
                                    "3": "2673",
                                    "4": "1"
                                }
                            ]
                        },
                        "text/html": "<table><tr><th>title</th><th>average_rating</th><th>books_count</th><th>user_id</th><th>book_id</th></tr><tr><td>Harry Potter and the Half-Blood Prince (Harry Potter, #6)</td><td>4.54</td><td>275</td><td>12</td><td>1</td></tr><tr><td>Harry Potter and the Half-Blood Prince (Harry Potter, #6)</td><td>4.54</td><td>275</td><td>192</td><td>1</td></tr><tr><td>Harry Potter and the Half-Blood Prince (Harry Potter, #6)</td><td>4.54</td><td>275</td><td>202</td><td>1</td></tr><tr><td>Harry Potter and the Half-Blood Prince (Harry Potter, #6)</td><td>4.54</td><td>275</td><td>244</td><td>1</td></tr><tr><td>Harry Potter and the Half-Blood Prince (Harry Potter, #6)</td><td>4.54</td><td>275</td><td>253</td><td>1</td></tr><tr><td>Harry Potter and the Half-Blood Prince (Harry Potter, #6)</td><td>4.54</td><td>275</td><td>350</td><td>1</td></tr><tr><td>Harry Potter and the Half-Blood Prince (Harry Potter, #6)</td><td>4.54</td><td>275</td><td>478</td><td>1</td></tr><tr><td>Harry Potter and the Half-Blood Prince (Harry Potter, #6)</td><td>4.54</td><td>275</td><td>511</td><td>1</td></tr><tr><td>Harry Potter and the Half-Blood Prince (Harry Potter, #6)</td><td>4.54</td><td>275</td><td>525</td><td>1</td></tr><tr><td>Harry Potter and the Half-Blood Prince (Harry Potter, #6)</td><td>4.54</td><td>275</td><td>527</td><td>1</td></tr><tr><td>Harry Potter and the Half-Blood Prince (Harry Potter, #6)</td><td>4.54</td><td>275</td><td>552</td><td>1</td></tr><tr><td>Harry Potter and the Half-Blood Prince (Harry Potter, #6)</td><td>4.54</td><td>275</td><td>644</td><td>1</td></tr><tr><td>Harry Potter and the Half-Blood Prince (Harry Potter, #6)</td><td>4.54</td><td>275</td><td>754</td><td>1</td></tr><tr><td>Harry Potter and the Half-Blood Prince (Harry Potter, #6)</td><td>4.54</td><td>275</td><td>826</td><td>1</td></tr><tr><td>Harry Potter and the Half-Blood Prince (Harry Potter, #6)</td><td>4.54</td><td>275</td><td>1043</td><td>1</td></tr><tr><td>Harry Potter and the Half-Blood Prince (Harry Potter, #6)</td><td>4.54</td><td>275</td><td>1205</td><td>1</td></tr><tr><td>Harry Potter and the Half-Blood Prince (Harry Potter, #6)</td><td>4.54</td><td>275</td><td>1442</td><td>1</td></tr><tr><td>Harry Potter and the Half-Blood Prince (Harry Potter, #6)</td><td>4.54</td><td>275</td><td>1470</td><td>1</td></tr><tr><td>Harry Potter and the Half-Blood Prince (Harry Potter, #6)</td><td>4.54</td><td>275</td><td>1712</td><td>1</td></tr><tr><td>Harry Potter and the Half-Blood Prince (Harry Potter, #6)</td><td>4.54</td><td>275</td><td>1814</td><td>1</td></tr><tr><td>Harry Potter and the Half-Blood Prince (Harry Potter, #6)</td><td>4.54</td><td>275</td><td>1919</td><td>1</td></tr><tr><td>Harry Potter and the Half-Blood Prince (Harry Potter, #6)</td><td>4.54</td><td>275</td><td>2051</td><td>1</td></tr><tr><td>Harry Potter and the Half-Blood Prince (Harry Potter, #6)</td><td>4.54</td><td>275</td><td>2052</td><td>1</td></tr><tr><td>Harry Potter and the Half-Blood Prince (Harry Potter, #6)</td><td>4.54</td><td>275</td><td>2158</td><td>1</td></tr><tr><td>Harry Potter and the Half-Blood Prince (Harry Potter, #6)</td><td>4.54</td><td>275</td><td>2160</td><td>1</td></tr><tr><td>Harry Potter and the Half-Blood Prince (Harry Potter, #6)</td><td>4.54</td><td>275</td><td>2345</td><td>1</td></tr><tr><td>Harry Potter and the Half-Blood Prince (Harry Potter, #6)</td><td>4.54</td><td>275</td><td>2476</td><td>1</td></tr><tr><td>Harry Potter and the Half-Blood Prince (Harry Potter, #6)</td><td>4.54</td><td>275</td><td>2523</td><td>1</td></tr><tr><td>Harry Potter and the Half-Blood Prince (Harry Potter, #6)</td><td>4.54</td><td>275</td><td>2623</td><td>1</td></tr><tr><td>Harry Potter and the Half-Blood Prince (Harry Potter, #6)</td><td>4.54</td><td>275</td><td>2673</td><td>1</td></tr></table>"
                    },
                    "metadata": {}
                }
            ],
            "execution_count": 20
        },
        {
            "cell_type": "markdown",
            "source": [
                "## **QUESTION 5:**  Using joins to find the most tagged book and the most popular tag\n",
                "\n",
                "We will be writing 3 queries to find both the most tagged book and that book's most popular tag.\n",
                "\n",
                "**Part A:**  What is the most tagged book?\n",
                "\n",
                "> <span style=\"background-color: rgba(127, 127, 127, 0.1); font-family: -apple-system, BlinkMacSystemFont, sans-serif;\">Start by joining the </span> **books** <span style=\"background-color: rgba(127, 127, 127, 0.1); font-family: -apple-system, BlinkMacSystemFont, sans-serif;\">and </span> **book\\_tags**      <span style=\"background-color: rgba(127, 127, 127, 0.1); font-family: -apple-system, BlinkMacSystemFont, sans-serif;\">&nbsp;tables ON the books.best_book_id and book_tags.goodreads_book_id.&nbsp;&nbsp;<br></span>          <span style=\"background-color: rgba(127, 127, 127, 0.1); font-family: -apple-system, BlinkMacSystemFont, sans-serif;\">We want the <i>most popular</i> book, so think about ordering the table in a way that will display both the book title and the number of times a book tag has been used.</span>\n",
                "> \n",
                "> _MInimum Desired output:_  The title of the most tagged book, and the number of times the book has been tagged.\n",
                "> \n",
                "> **Title: The Alchemist; tagged 596234 times**\n",
                "\n",
                "**Part B:** How many different tags have been used for the most tagged book?\n",
                "\n",
                "> <span style=\"font-family: -apple-system, BlinkMacSystemFont, sans-serif; background-color: rgba(127, 127, 127, 0.1);\">Start by joining the&nbsp;</span>      **books** <span style=\"font-family: -apple-system, BlinkMacSystemFont, sans-serif; background-color: rgba(127, 127, 127, 0.1);\">and&nbsp;</span>      **book\\_tags**      <span style=\"font-family: -apple-system, BlinkMacSystemFont, sans-serif; background-color: rgba(127, 127, 127, 0.1);\">&nbsp;tables ON the books.best_book_id and book_tags.goodreads_book_id.&nbsp;&nbsp;<br></span>          We want to find the _most popular_ tag id, so think about ordering in a way that will display the most popular tag id.\n",
                "> \n",
                "> <span style=\"font-family: -apple-system, BlinkMacSystemFont, sans-serif; background-color: rgba(127, 127, 127, 0.1);\"><i>Minimum Desired Output:</i> The tag id for the most popular tag used for the most tagged book.&nbsp;</span>     \n",
                "> \n",
                "> <span style=\"font-family: -apple-system, BlinkMacSystemFont, sans-serif; background-color: rgba(127, 127, 127, 0.1);\"><b>Tag Id: The are 100 differenet tags that have been used for the most tagged book. the tag is is 30574</b></span>\n",
                "> \n",
                "> **Part C:** What is this particular tag?\n",
                "\n",
                "> You may return this answer with a simple query.\n",
                "\n",
                "> <span style=\"font-family: -apple-system, BlinkMacSystemFont, sans-serif; background-color: rgba(127, 127, 127, 0.1);\"><i>Minimum Desired Output:</i>&nbsp;The tag name for the most popular tag used for the most tagged book.&nbsp;</span>     \n",
                "> \n",
                "> <span style=\"font-family: -apple-system, BlinkMacSystemFont, sans-serif; background-color: rgba(127, 127, 127, 0.1);\"><b>Tag Name: the tag name is \"to-read\"</b></span>"
            ],
            "metadata": {
                "azdata_cell_guid": "a685e9cc-2ae2-40e8-8cc1-022c8064d66d"
            },
            "attachments": {}
        },
        {
            "cell_type": "code",
            "source": [
                "-- book tags table columns:  \r\n",
                "--          goodreads_book_id = the id of the book\r\n",
                "--          tag_id = matches to a specific tag that can be found in the tags table.\r\n",
                "--          count = the number of times this tag was used for this book.\r\n",
                "\r\n",
                "-- part A\r\n",
                "SELECT top 50 b.title, bt.goodreads_book_id, bt.tag_id, bt.count\r\n",
                "FROM books AS b\r\n",
                "LEFT JOIN book_tags AS bt\r\n",
                "ON b.best_book_id = bt.goodreads_book_id\r\n",
                "-- WHERE tr.user_id IS NOT NULL\r\n",
                "ORDER BY bt.count DESC\r\n",
                "\r\n",
                "-- part B\r\n",
                "SELECT b.title, bt.goodreads_book_id, bt.count, tags.tag_id, tags.tag_name\r\n",
                "FROM books AS b\r\n",
                "LEFT JOIN book_tags AS bt \r\n",
                "ON b.best_book_id = bt.goodreads_book_id\r\n",
                "LEFT join tags -- couldn't figure out how else to do this so joined a third table - the tags table to the other ones because it has the tag name in it. and book tags has the tag count already so no aggregate function needed. they're relational so i think count column should give same info...maybe\r\n",
                "on bt.tag_id = tags.tag_id \r\n",
                "WHERE b.title LIKE 'The Alchemist'\r\n",
                "ORDER BY bt.count DESC\r\n",
                ""
            ],
            "metadata": {
                "azdata_cell_guid": "de3ac253-6b47-4740-8c6e-5f9d1b0ce36b",
                "language": "sql",
                "tags": []
            },
            "outputs": [
                {
                    "output_type": "display_data",
                    "data": {
                        "text/html": "(50 rows affected)"
                    },
                    "metadata": {}
                },
                {
                    "output_type": "display_data",
                    "data": {
                        "text/html": "(100 rows affected)"
                    },
                    "metadata": {}
                },
                {
                    "output_type": "display_data",
                    "data": {
                        "text/html": "Total execution time: 00:00:00.455"
                    },
                    "metadata": {}
                },
                {
                    "output_type": "execute_result",
                    "execution_count": 38,
                    "data": {
                        "application/vnd.dataresource+json": {
                            "schema": {
                                "fields": [
                                    {
                                        "name": "title"
                                    },
                                    {
                                        "name": "goodreads_book_id"
                                    },
                                    {
                                        "name": "tag_id"
                                    },
                                    {
                                        "name": "count"
                                    }
                                ]
                            },
                            "data": [
                                {
                                    "0": "The Alchemist",
                                    "1": "865",
                                    "2": "30574",
                                    "3": "596234"
                                },
                                {
                                    "0": "The Girl with the Dragon Tattoo (Millennium, #1)",
                                    "1": "2429135",
                                    "2": "30574",
                                    "3": "586235"
                                },
                                {
                                    "0": "All the Light We Cannot See",
                                    "1": "18143977",
                                    "2": "30574",
                                    "3": "505884"
                                },
                                {
                                    "0": "Harry Potter and the Sorcerer's Stone (Harry Potter, #1)",
                                    "1": "3",
                                    "2": "30574",
                                    "3": "496107"
                                },
                                {
                                    "0": "Les Misérables",
                                    "1": "24280",
                                    "2": "30574",
                                    "3": "488469"
                                },
                                {
                                    "0": "Cinder (The Lunar Chronicles, #1)",
                                    "1": "11235712",
                                    "2": "30574",
                                    "3": "474954"
                                },
                                {
                                    "0": "Catch-22",
                                    "1": "168668",
                                    "2": "30574",
                                    "3": "465640"
                                },
                                {
                                    "0": "Gone with the Wind",
                                    "1": "18405",
                                    "2": "30574",
                                    "3": "454565"
                                },
                                {
                                    "0": "Slaughterhouse-Five",
                                    "1": "4981",
                                    "2": "30574",
                                    "3": "443942"
                                },
                                {
                                    "0": "A Tale of Two Cities",
                                    "1": "1953",
                                    "2": "30574",
                                    "3": "402942"
                                },
                                {
                                    "0": "The Maze Runner (Maze Runner, #1)",
                                    "1": "6186357",
                                    "2": "30574",
                                    "3": "380255"
                                },
                                {
                                    "0": "If I Stay (If I Stay, #1)",
                                    "1": "4374400",
                                    "2": "30574",
                                    "3": "378509"
                                },
                                {
                                    "0": "The Picture of Dorian Gray",
                                    "1": "5297",
                                    "2": "30574",
                                    "3": "358381"
                                },
                                {
                                    "0": "The Handmaid's Tale",
                                    "1": "38447",
                                    "2": "30574",
                                    "3": "348218"
                                },
                                {
                                    "0": "Little Women (Little Women, #1)",
                                    "1": "1934",
                                    "2": "30574",
                                    "3": "345105"
                                },
                                {
                                    "0": "Bossypants",
                                    "1": "9418327",
                                    "2": "30574",
                                    "3": "332278"
                                },
                                {
                                    "0": "The Tipping Point: How Little Things Can Make a Big Difference",
                                    "1": "2612",
                                    "2": "30574",
                                    "3": "320295"
                                },
                                {
                                    "0": "Room",
                                    "1": "7937843",
                                    "2": "30574",
                                    "3": "302652"
                                },
                                {
                                    "0": "Middlesex",
                                    "1": "2187",
                                    "2": "30574",
                                    "3": "299006"
                                },
                                {
                                    "0": "Dracula",
                                    "1": "17245",
                                    "2": "30574",
                                    "3": "287576"
                                },
                                {
                                    "0": "The Secret Life of Bees",
                                    "1": "37435",
                                    "2": "30574",
                                    "3": "286899"
                                },
                                {
                                    "0": "Yes Please",
                                    "1": "20910157",
                                    "2": "30574",
                                    "3": "286059"
                                },
                                {
                                    "0": "The Name of the Wind (The Kingkiller Chronicle, #1)",
                                    "1": "186074",
                                    "2": "30574",
                                    "3": "283253"
                                },
                                {
                                    "0": "The 7 Habits of Highly Effective People: Powerful Lessons in Personal Change",
                                    "1": "36072",
                                    "2": "30574",
                                    "3": "283148"
                                },
                                {
                                    "0": "Romeo and Juliet",
                                    "1": "18135",
                                    "2": "30574",
                                    "3": "279627"
                                },
                                {
                                    "0": "Ender's Game (Ender's Saga, #1)",
                                    "1": "375802",
                                    "2": "30574",
                                    "3": "277113"
                                },
                                {
                                    "0": "The Golden Compass (His Dark Materials, #1)",
                                    "1": "119322",
                                    "2": "30574",
                                    "3": "276683"
                                },
                                {
                                    "0": "The Nightingale",
                                    "1": "21853621",
                                    "2": "30574",
                                    "3": "275551"
                                },
                                {
                                    "0": "The 5th Wave (The 5th Wave, #1)",
                                    "1": "16101128",
                                    "2": "30574",
                                    "3": "271738"
                                },
                                {
                                    "0": "War and Peace",
                                    "1": "656",
                                    "2": "30574",
                                    "3": "271642"
                                },
                                {
                                    "0": "The Glass Castle",
                                    "1": "7445",
                                    "2": "30574",
                                    "3": "260535"
                                },
                                {
                                    "0": "Daughter of Smoke & Bone (Daughter of Smoke & Bone, #1)",
                                    "1": "8490112",
                                    "2": "30574",
                                    "3": "255961"
                                },
                                {
                                    "0": "Moby-Dick or, The Whale",
                                    "1": "153747",
                                    "2": "30574",
                                    "3": "255686"
                                },
                                {
                                    "0": "In the Woods (Dublin Murder Squad, #1)",
                                    "1": "237209",
                                    "2": "30574",
                                    "3": "249532"
                                },
                                {
                                    "0": "Harry Potter and the Cursed Child - Parts One and Two (Harry Potter, #8)",
                                    "1": "29056083",
                                    "2": "30574",
                                    "3": "248603"
                                },
                                {
                                    "0": "Wonder",
                                    "1": "11387515",
                                    "2": "30574",
                                    "3": "248197"
                                },
                                {
                                    "0": "Ready Player One",
                                    "1": "9969571",
                                    "2": "30574",
                                    "3": "244228"
                                },
                                {
                                    "0": "The Cuckoo's Calling (Cormoran Strike, #1)",
                                    "1": "16160797",
                                    "2": "30574",
                                    "3": "241339"
                                },
                                {
                                    "0": "Is Everyone Hanging Out Without Me? (And Other Concerns)",
                                    "1": "10335308",
                                    "2": "30574",
                                    "3": "240537"
                                },
                                {
                                    "0": "And Then There Were None",
                                    "1": "16299",
                                    "2": "30574",
                                    "3": "238965"
                                },
                                {
                                    "0": "The Odyssey",
                                    "1": "1381",
                                    "2": "30574",
                                    "3": "238730"
                                },
                                {
                                    "0": "Dune (Dune Chronicles #1)",
                                    "1": "234225",
                                    "2": "30574",
                                    "3": "232155"
                                },
                                {
                                    "0": "In Cold Blood",
                                    "1": "168642",
                                    "2": "30574",
                                    "3": "231340"
                                },
                                {
                                    "0": "A Wrinkle in Time (A Wrinkle in Time Quintet, #1)",
                                    "1": "18131",
                                    "2": "30574",
                                    "3": "228455"
                                },
                                {
                                    "0": "Great Expectations",
                                    "1": "2623",
                                    "2": "30574",
                                    "3": "227548"
                                },
                                {
                                    "0": "Allegiant (Divergent, #3)",
                                    "1": "18710190",
                                    "2": "30574",
                                    "3": "225359"
                                },
                                {
                                    "0": "Graceling (Graceling Realm, #1)",
                                    "1": "3236307",
                                    "2": "30574",
                                    "3": "222895"
                                },
                                {
                                    "0": "The Secret Garden",
                                    "1": "2998",
                                    "2": "30574",
                                    "3": "222156"
                                },
                                {
                                    "0": "A Tree Grows in Brooklyn",
                                    "1": "14891",
                                    "2": "30574",
                                    "3": "220839"
                                },
                                {
                                    "0": "Persuasion",
                                    "1": "2156",
                                    "2": "30574",
                                    "3": "220502"
                                }
                            ]
                        },
                        "text/html": "<table><tr><th>title</th><th>goodreads_book_id</th><th>tag_id</th><th>count</th></tr><tr><td>The Alchemist</td><td>865</td><td>30574</td><td>596234</td></tr><tr><td>The Girl with the Dragon Tattoo (Millennium, #1)</td><td>2429135</td><td>30574</td><td>586235</td></tr><tr><td>All the Light We Cannot See</td><td>18143977</td><td>30574</td><td>505884</td></tr><tr><td>Harry Potter and the Sorcerer's Stone (Harry Potter, #1)</td><td>3</td><td>30574</td><td>496107</td></tr><tr><td>Les Misérables</td><td>24280</td><td>30574</td><td>488469</td></tr><tr><td>Cinder (The Lunar Chronicles, #1)</td><td>11235712</td><td>30574</td><td>474954</td></tr><tr><td>Catch-22</td><td>168668</td><td>30574</td><td>465640</td></tr><tr><td>Gone with the Wind</td><td>18405</td><td>30574</td><td>454565</td></tr><tr><td>Slaughterhouse-Five</td><td>4981</td><td>30574</td><td>443942</td></tr><tr><td>A Tale of Two Cities</td><td>1953</td><td>30574</td><td>402942</td></tr><tr><td>The Maze Runner (Maze Runner, #1)</td><td>6186357</td><td>30574</td><td>380255</td></tr><tr><td>If I Stay (If I Stay, #1)</td><td>4374400</td><td>30574</td><td>378509</td></tr><tr><td>The Picture of Dorian Gray</td><td>5297</td><td>30574</td><td>358381</td></tr><tr><td>The Handmaid's Tale</td><td>38447</td><td>30574</td><td>348218</td></tr><tr><td>Little Women (Little Women, #1)</td><td>1934</td><td>30574</td><td>345105</td></tr><tr><td>Bossypants</td><td>9418327</td><td>30574</td><td>332278</td></tr><tr><td>The Tipping Point: How Little Things Can Make a Big Difference</td><td>2612</td><td>30574</td><td>320295</td></tr><tr><td>Room</td><td>7937843</td><td>30574</td><td>302652</td></tr><tr><td>Middlesex</td><td>2187</td><td>30574</td><td>299006</td></tr><tr><td>Dracula</td><td>17245</td><td>30574</td><td>287576</td></tr><tr><td>The Secret Life of Bees</td><td>37435</td><td>30574</td><td>286899</td></tr><tr><td>Yes Please</td><td>20910157</td><td>30574</td><td>286059</td></tr><tr><td>The Name of the Wind (The Kingkiller Chronicle, #1)</td><td>186074</td><td>30574</td><td>283253</td></tr><tr><td>The 7 Habits of Highly Effective People: Powerful Lessons in Personal Change</td><td>36072</td><td>30574</td><td>283148</td></tr><tr><td>Romeo and Juliet</td><td>18135</td><td>30574</td><td>279627</td></tr><tr><td>Ender's Game (Ender's Saga, #1)</td><td>375802</td><td>30574</td><td>277113</td></tr><tr><td>The Golden Compass (His Dark Materials, #1)</td><td>119322</td><td>30574</td><td>276683</td></tr><tr><td>The Nightingale</td><td>21853621</td><td>30574</td><td>275551</td></tr><tr><td>The 5th Wave (The 5th Wave, #1)</td><td>16101128</td><td>30574</td><td>271738</td></tr><tr><td>War and Peace</td><td>656</td><td>30574</td><td>271642</td></tr><tr><td>The Glass Castle</td><td>7445</td><td>30574</td><td>260535</td></tr><tr><td>Daughter of Smoke &amp; Bone (Daughter of Smoke &amp; Bone, #1)</td><td>8490112</td><td>30574</td><td>255961</td></tr><tr><td>Moby-Dick or, The Whale</td><td>153747</td><td>30574</td><td>255686</td></tr><tr><td>In the Woods (Dublin Murder Squad, #1)</td><td>237209</td><td>30574</td><td>249532</td></tr><tr><td>Harry Potter and the Cursed Child - Parts One and Two (Harry Potter, #8)</td><td>29056083</td><td>30574</td><td>248603</td></tr><tr><td>Wonder</td><td>11387515</td><td>30574</td><td>248197</td></tr><tr><td>Ready Player One</td><td>9969571</td><td>30574</td><td>244228</td></tr><tr><td>The Cuckoo's Calling (Cormoran Strike, #1)</td><td>16160797</td><td>30574</td><td>241339</td></tr><tr><td>Is Everyone Hanging Out Without Me? (And Other Concerns)</td><td>10335308</td><td>30574</td><td>240537</td></tr><tr><td>And Then There Were None</td><td>16299</td><td>30574</td><td>238965</td></tr><tr><td>The Odyssey</td><td>1381</td><td>30574</td><td>238730</td></tr><tr><td>Dune (Dune Chronicles #1)</td><td>234225</td><td>30574</td><td>232155</td></tr><tr><td>In Cold Blood</td><td>168642</td><td>30574</td><td>231340</td></tr><tr><td>A Wrinkle in Time (A Wrinkle in Time Quintet, #1)</td><td>18131</td><td>30574</td><td>228455</td></tr><tr><td>Great Expectations</td><td>2623</td><td>30574</td><td>227548</td></tr><tr><td>Allegiant (Divergent, #3)</td><td>18710190</td><td>30574</td><td>225359</td></tr><tr><td>Graceling (Graceling Realm, #1)</td><td>3236307</td><td>30574</td><td>222895</td></tr><tr><td>The Secret Garden</td><td>2998</td><td>30574</td><td>222156</td></tr><tr><td>A Tree Grows in Brooklyn</td><td>14891</td><td>30574</td><td>220839</td></tr><tr><td>Persuasion</td><td>2156</td><td>30574</td><td>220502</td></tr></table>"
                    },
                    "metadata": {}
                },
                {
                    "output_type": "execute_result",
                    "execution_count": 38,
                    "data": {
                        "application/vnd.dataresource+json": {
                            "schema": {
                                "fields": [
                                    {
                                        "name": "title"
                                    },
                                    {
                                        "name": "goodreads_book_id"
                                    },
                                    {
                                        "name": "count"
                                    },
                                    {
                                        "name": "tag_id"
                                    },
                                    {
                                        "name": "tag_name"
                                    }
                                ]
                            },
                            "data": [
                                {
                                    "0": "The Alchemist",
                                    "1": "865",
                                    "2": "596234",
                                    "3": "30574",
                                    "4": "to-read"
                                },
                                {
                                    "0": "The Alchemist",
                                    "1": "865",
                                    "2": "26269",
                                    "3": "8717",
                                    "4": "currently-reading"
                                },
                                {
                                    "0": "The Alchemist",
                                    "1": "865",
                                    "2": "9712",
                                    "3": "11743",
                                    "4": "fiction"
                                },
                                {
                                    "0": "The Alchemist",
                                    "1": "865",
                                    "2": "8698",
                                    "3": "11557",
                                    "4": "favorites"
                                },
                                {
                                    "0": "The Alchemist",
                                    "1": "865",
                                    "2": "3089",
                                    "3": "7457",
                                    "4": "classics"
                                },
                                {
                                    "0": "The Alchemist",
                                    "1": "865",
                                    "2": "2297",
                                    "3": "11305",
                                    "4": "fantasy"
                                },
                                {
                                    "0": "The Alchemist",
                                    "1": "865",
                                    "2": "1979",
                                    "3": "23471",
                                    "4": "philosophy"
                                },
                                {
                                    "0": "The Alchemist",
                                    "1": "865",
                                    "2": "1597",
                                    "3": "22743",
                                    "4": "owned"
                                },
                                {
                                    "0": "The Alchemist",
                                    "1": "865",
                                    "2": "1360",
                                    "3": "5207",
                                    "4": "books-i-own"
                                },
                                {
                                    "0": "The Alchemist",
                                    "1": "865",
                                    "2": "1232",
                                    "3": "4949",
                                    "4": "book-club"
                                },
                                {
                                    "0": "The Alchemist",
                                    "1": "865",
                                    "2": "1194",
                                    "3": "22034",
                                    "4": "novels"
                                },
                                {
                                    "0": "The Alchemist",
                                    "1": "865",
                                    "2": "961",
                                    "3": "28384",
                                    "4": "spirituality"
                                },
                                {
                                    "0": "The Alchemist",
                                    "1": "865",
                                    "2": "889",
                                    "3": "23150",
                                    "4": "paulo-coelho"
                                },
                                {
                                    "0": "The Alchemist",
                                    "1": "865",
                                    "2": "840",
                                    "3": "15626",
                                    "4": "inspirational"
                                },
                                {
                                    "0": "The Alchemist",
                                    "1": "865",
                                    "2": "814",
                                    "3": "18367",
                                    "4": "literature"
                                },
                                {
                                    "0": "The Alchemist",
                                    "1": "865",
                                    "2": "744",
                                    "3": "21989",
                                    "4": "novel"
                                },
                                {
                                    "0": "The Alchemist",
                                    "1": "865",
                                    "2": "732",
                                    "3": "28341",
                                    "4": "spiritual"
                                },
                                {
                                    "0": "The Alchemist",
                                    "1": "865",
                                    "2": "670",
                                    "3": "1691",
                                    "4": "adventure"
                                },
                                {
                                    "0": "The Alchemist",
                                    "1": "865",
                                    "2": "576",
                                    "3": "7404",
                                    "4": "classic"
                                },
                                {
                                    "0": "The Alchemist",
                                    "1": "865",
                                    "2": "570",
                                    "3": "11590",
                                    "4": "favourites"
                                },
                                {
                                    "0": "The Alchemist",
                                    "1": "865",
                                    "2": "567",
                                    "3": "22753",
                                    "4": "owned-books"
                                },
                                {
                                    "0": "The Alchemist",
                                    "1": "865",
                                    "2": "520",
                                    "3": "8055",
                                    "4": "contemporary"
                                },
                                {
                                    "0": "The Alchemist",
                                    "1": "865",
                                    "2": "452",
                                    "3": "27095",
                                    "4": "self-help"
                                },
                                {
                                    "0": "The Alchemist",
                                    "1": "865",
                                    "2": "418",
                                    "3": "33777",
                                    "4": "روايات"
                                },
                                {
                                    "0": "The Alchemist",
                                    "1": "865",
                                    "2": "405",
                                    "3": "18919",
                                    "4": "magical-realism"
                                },
                                {
                                    "0": "The Alchemist",
                                    "1": "865",
                                    "2": "384",
                                    "3": "1642",
                                    "4": "adult"
                                },
                                {
                                    "0": "The Alchemist",
                                    "1": "865",
                                    "2": "374",
                                    "3": "30521",
                                    "4": "to-buy"
                                },
                                {
                                    "0": "The Alchemist",
                                    "1": "865",
                                    "2": "358",
                                    "3": "1659",
                                    "4": "adult-fiction"
                                },
                                {
                                    "0": "The Alchemist",
                                    "1": "865",
                                    "2": "334",
                                    "3": "20774",
                                    "4": "my-books"
                                },
                                {
                                    "0": "The Alchemist",
                                    "1": "865",
                                    "2": "334",
                                    "3": "14487",
                                    "4": "historical-fiction"
                                },
                                {
                                    "0": "The Alchemist",
                                    "1": "865",
                                    "2": "333",
                                    "3": "18045",
                                    "4": "library"
                                },
                                {
                                    "0": "The Alchemist",
                                    "1": "865",
                                    "2": "330",
                                    "3": "12948",
                                    "4": "general-fiction"
                                },
                                {
                                    "0": "The Alchemist",
                                    "1": "865",
                                    "2": "321",
                                    "3": "7563",
                                    "4": "clàssics"
                                },
                                {
                                    "0": "The Alchemist",
                                    "1": "865",
                                    "2": "308",
                                    "3": "3389",
                                    "4": "audiobook"
                                },
                                {
                                    "0": "The Alchemist",
                                    "1": "865",
                                    "2": "297",
                                    "3": "20849",
                                    "4": "my-library"
                                },
                                {
                                    "0": "The Alchemist",
                                    "1": "865",
                                    "2": "274",
                                    "3": "11497",
                                    "4": "favorite"
                                },
                                {
                                    "0": "The Alchemist",
                                    "1": "865",
                                    "2": "265",
                                    "3": "9221",
                                    "4": "default"
                                },
                                {
                                    "0": "The Alchemist",
                                    "1": "865",
                                    "2": "246",
                                    "3": "3392",
                                    "4": "audiobooks"
                                },
                                {
                                    "0": "The Alchemist",
                                    "1": "865",
                                    "2": "240",
                                    "3": "17213",
                                    "4": "kindle"
                                },
                                {
                                    "0": "The Alchemist",
                                    "1": "865",
                                    "2": "238",
                                    "3": "25647",
                                    "4": "religion"
                                },
                                {
                                    "0": "The Alchemist",
                                    "1": "865",
                                    "2": "236",
                                    "3": "8067",
                                    "4": "contemporary-fiction"
                                },
                                {
                                    "0": "The Alchemist",
                                    "1": "865",
                                    "2": "235",
                                    "3": "26735",
                                    "4": "school"
                                },
                                {
                                    "0": "The Alchemist",
                                    "1": "865",
                                    "2": "223",
                                    "3": "5051",
                                    "4": "bookclub"
                                },
                                {
                                    "0": "The Alchemist",
                                    "1": "865",
                                    "2": "216",
                                    "3": "18326",
                                    "4": "literary-fiction"
                                },
                                {
                                    "0": "The Alchemist",
                                    "1": "865",
                                    "2": "207",
                                    "3": "24960",
                                    "4": "re-read"
                                },
                                {
                                    "0": "The Alchemist",
                                    "1": "865",
                                    "2": "204",
                                    "3": "10644",
                                    "4": "english"
                                },
                                {
                                    "0": "The Alchemist",
                                    "1": "865",
                                    "2": "198",
                                    "3": "11978",
                                    "4": "finished"
                                },
                                {
                                    "0": "The Alchemist",
                                    "1": "865",
                                    "2": "198",
                                    "3": "5090",
                                    "4": "books"
                                },
                                {
                                    "0": "The Alchemist",
                                    "1": "865",
                                    "2": "198",
                                    "3": "31155",
                                    "4": "travel"
                                },
                                {
                                    "0": "The Alchemist",
                                    "1": "865",
                                    "2": "191",
                                    "3": "15169",
                                    "4": "i-own"
                                },
                                {
                                    "0": "The Alchemist",
                                    "1": "865",
                                    "2": "184",
                                    "3": "5481",
                                    "4": "borrowed"
                                },
                                {
                                    "0": "The Alchemist",
                                    "1": "865",
                                    "2": "184",
                                    "3": "23465",
                                    "4": "philosophical"
                                },
                                {
                                    "0": "The Alchemist",
                                    "1": "865",
                                    "2": "179",
                                    "3": "10197",
                                    "4": "ebook"
                                },
                                {
                                    "0": "The Alchemist",
                                    "1": "865",
                                    "2": "179",
                                    "3": "2104",
                                    "4": "all-time-favorites"
                                },
                                {
                                    "0": "The Alchemist",
                                    "1": "865",
                                    "2": "175",
                                    "3": "11505",
                                    "4": "favorite-books"
                                },
                                {
                                    "0": "The Alchemist",
                                    "1": "865",
                                    "2": "166",
                                    "3": "33114",
                                    "4": "young-adult"
                                },
                                {
                                    "0": "The Alchemist",
                                    "1": "865",
                                    "2": "165",
                                    "3": "1416",
                                    "4": "abandoned"
                                },
                                {
                                    "0": "The Alchemist",
                                    "1": "865",
                                    "2": "163",
                                    "3": "27535",
                                    "4": "shelfari-favorites"
                                },
                                {
                                    "0": "The Alchemist",
                                    "1": "865",
                                    "2": "159",
                                    "3": "25152",
                                    "4": "read-in-2016"
                                },
                                {
                                    "0": "The Alchemist",
                                    "1": "865",
                                    "2": "159",
                                    "3": "22689",
                                    "4": "own-it"
                                },
                                {
                                    "0": "The Alchemist",
                                    "1": "865",
                                    "2": "155",
                                    "3": "25151",
                                    "4": "read-in-2015"
                                },
                                {
                                    "0": "The Alchemist",
                                    "1": "865",
                                    "2": "146",
                                    "3": "3371",
                                    "4": "audio"
                                },
                                {
                                    "0": "The Alchemist",
                                    "1": "865",
                                    "2": "145",
                                    "3": "9886",
                                    "4": "drama"
                                },
                                {
                                    "0": "The Alchemist",
                                    "1": "865",
                                    "2": "144",
                                    "3": "15642",
                                    "4": "inspiring"
                                },
                                {
                                    "0": "The Alchemist",
                                    "1": "865",
                                    "2": "142",
                                    "3": "31133",
                                    "4": "translated"
                                },
                                {
                                    "0": "The Alchemist",
                                    "1": "865",
                                    "2": "139",
                                    "3": "923",
                                    "4": "20th-century"
                                },
                                {
                                    "0": "The Alchemist",
                                    "1": "865",
                                    "2": "136",
                                    "3": "30672",
                                    "4": "to-read-fiction"
                                },
                                {
                                    "0": "The Alchemist",
                                    "1": "865",
                                    "2": "134",
                                    "3": "25150",
                                    "4": "read-in-2014"
                                },
                                {
                                    "0": "The Alchemist",
                                    "1": "865",
                                    "2": "131",
                                    "3": "10210",
                                    "4": "ebooks"
                                },
                                {
                                    "0": "The Alchemist",
                                    "1": "865",
                                    "2": "128",
                                    "3": "15624",
                                    "4": "inspiration"
                                },
                                {
                                    "0": "The Alchemist",
                                    "1": "865",
                                    "2": "127",
                                    "3": "32586",
                                    "4": "wish-list"
                                },
                                {
                                    "0": "The Alchemist",
                                    "1": "865",
                                    "2": "126",
                                    "3": "11574",
                                    "4": "favourite"
                                },
                                {
                                    "0": "The Alchemist",
                                    "1": "865",
                                    "2": "125",
                                    "3": "7606",
                                    "4": "coelho"
                                },
                                {
                                    "0": "The Alchemist",
                                    "1": "865",
                                    "2": "124",
                                    "3": "20731",
                                    "4": "must-read"
                                },
                                {
                                    "0": "The Alchemist",
                                    "1": "865",
                                    "2": "124",
                                    "3": "1746",
                                    "4": "africa"
                                },
                                {
                                    "0": "The Alchemist",
                                    "1": "865",
                                    "2": "119",
                                    "3": "5656",
                                    "4": "brazilian"
                                },
                                {
                                    "0": "The Alchemist",
                                    "1": "865",
                                    "2": "118",
                                    "3": "20824",
                                    "4": "my-favorites"
                                },
                                {
                                    "0": "The Alchemist",
                                    "1": "865",
                                    "2": "117",
                                    "3": "4959",
                                    "4": "book-club-books"
                                },
                                {
                                    "0": "The Alchemist",
                                    "1": "865",
                                    "2": "116",
                                    "3": "22545",
                                    "4": "other"
                                },
                                {
                                    "0": "The Alchemist",
                                    "1": "865",
                                    "2": "116",
                                    "3": "18318",
                                    "4": "literary"
                                },
                                {
                                    "0": "The Alchemist",
                                    "1": "865",
                                    "2": "116",
                                    "3": "25153",
                                    "4": "read-in-2017"
                                },
                                {
                                    "0": "The Alchemist",
                                    "1": "865",
                                    "2": "113",
                                    "3": "21689",
                                    "4": "non-fiction"
                                },
                                {
                                    "0": "The Alchemist",
                                    "1": "865",
                                    "2": "111",
                                    "3": "23334",
                                    "4": "personal-development"
                                },
                                {
                                    "0": "The Alchemist",
                                    "1": "865",
                                    "2": "110",
                                    "3": "20282",
                                    "4": "modern-classics"
                                },
                                {
                                    "0": "The Alchemist",
                                    "1": "865",
                                    "2": "110",
                                    "3": "29614",
                                    "4": "the-alchemist"
                                },
                                {
                                    "0": "The Alchemist",
                                    "1": "865",
                                    "2": "109",
                                    "3": "27111",
                                    "4": "self-improvement"
                                },
                                {
                                    "0": "The Alchemist",
                                    "1": "865",
                                    "2": "107",
                                    "3": "30573",
                                    "4": "to-re-read"
                                },
                                {
                                    "0": "The Alchemist",
                                    "1": "865",
                                    "2": "107",
                                    "3": "31505",
                                    "4": "unfinished"
                                },
                                {
                                    "0": "The Alchemist",
                                    "1": "865",
                                    "2": "106",
                                    "3": "17640",
                                    "4": "latin-american"
                                },
                                {
                                    "0": "The Alchemist",
                                    "1": "865",
                                    "2": "104",
                                    "3": "11106",
                                    "4": "fable"
                                },
                                {
                                    "0": "The Alchemist",
                                    "1": "865",
                                    "2": "102",
                                    "3": "25506",
                                    "4": "recommended"
                                },
                                {
                                    "0": "The Alchemist",
                                    "1": "865",
                                    "2": "102",
                                    "3": "5655",
                                    "4": "brazil"
                                },
                                {
                                    "0": "The Alchemist",
                                    "1": "865",
                                    "2": "101",
                                    "3": "26138",
                                    "4": "romance"
                                },
                                {
                                    "0": "The Alchemist",
                                    "1": "865",
                                    "2": "101",
                                    "3": "12315",
                                    "4": "for-school"
                                },
                                {
                                    "0": "The Alchemist",
                                    "1": "865",
                                    "2": "100",
                                    "3": "4985",
                                    "4": "book-group"
                                },
                                {
                                    "0": "The Alchemist",
                                    "1": "865",
                                    "2": "99",
                                    "3": "20520",
                                    "4": "motivational"
                                },
                                {
                                    "0": "The Alchemist",
                                    "1": "865",
                                    "2": "99",
                                    "3": "20288",
                                    "4": "modern-fiction"
                                },
                                {
                                    "0": "The Alchemist",
                                    "1": "865",
                                    "2": "97",
                                    "3": "28259",
                                    "4": "spain"
                                },
                                {
                                    "0": "The Alchemist",
                                    "1": "865",
                                    "2": "96",
                                    "3": "18130",
                                    "4": "life"
                                },
                                {
                                    "0": "The Alchemist",
                                    "1": "865",
                                    "2": "95",
                                    "3": "25149",
                                    "4": "read-in-2013"
                                }
                            ]
                        },
                        "text/html": "<table><tr><th>title</th><th>goodreads_book_id</th><th>count</th><th>tag_id</th><th>tag_name</th></tr><tr><td>The Alchemist</td><td>865</td><td>596234</td><td>30574</td><td>to-read</td></tr><tr><td>The Alchemist</td><td>865</td><td>26269</td><td>8717</td><td>currently-reading</td></tr><tr><td>The Alchemist</td><td>865</td><td>9712</td><td>11743</td><td>fiction</td></tr><tr><td>The Alchemist</td><td>865</td><td>8698</td><td>11557</td><td>favorites</td></tr><tr><td>The Alchemist</td><td>865</td><td>3089</td><td>7457</td><td>classics</td></tr><tr><td>The Alchemist</td><td>865</td><td>2297</td><td>11305</td><td>fantasy</td></tr><tr><td>The Alchemist</td><td>865</td><td>1979</td><td>23471</td><td>philosophy</td></tr><tr><td>The Alchemist</td><td>865</td><td>1597</td><td>22743</td><td>owned</td></tr><tr><td>The Alchemist</td><td>865</td><td>1360</td><td>5207</td><td>books-i-own</td></tr><tr><td>The Alchemist</td><td>865</td><td>1232</td><td>4949</td><td>book-club</td></tr><tr><td>The Alchemist</td><td>865</td><td>1194</td><td>22034</td><td>novels</td></tr><tr><td>The Alchemist</td><td>865</td><td>961</td><td>28384</td><td>spirituality</td></tr><tr><td>The Alchemist</td><td>865</td><td>889</td><td>23150</td><td>paulo-coelho</td></tr><tr><td>The Alchemist</td><td>865</td><td>840</td><td>15626</td><td>inspirational</td></tr><tr><td>The Alchemist</td><td>865</td><td>814</td><td>18367</td><td>literature</td></tr><tr><td>The Alchemist</td><td>865</td><td>744</td><td>21989</td><td>novel</td></tr><tr><td>The Alchemist</td><td>865</td><td>732</td><td>28341</td><td>spiritual</td></tr><tr><td>The Alchemist</td><td>865</td><td>670</td><td>1691</td><td>adventure</td></tr><tr><td>The Alchemist</td><td>865</td><td>576</td><td>7404</td><td>classic</td></tr><tr><td>The Alchemist</td><td>865</td><td>570</td><td>11590</td><td>favourites</td></tr><tr><td>The Alchemist</td><td>865</td><td>567</td><td>22753</td><td>owned-books</td></tr><tr><td>The Alchemist</td><td>865</td><td>520</td><td>8055</td><td>contemporary</td></tr><tr><td>The Alchemist</td><td>865</td><td>452</td><td>27095</td><td>self-help</td></tr><tr><td>The Alchemist</td><td>865</td><td>418</td><td>33777</td><td>روايات</td></tr><tr><td>The Alchemist</td><td>865</td><td>405</td><td>18919</td><td>magical-realism</td></tr><tr><td>The Alchemist</td><td>865</td><td>384</td><td>1642</td><td>adult</td></tr><tr><td>The Alchemist</td><td>865</td><td>374</td><td>30521</td><td>to-buy</td></tr><tr><td>The Alchemist</td><td>865</td><td>358</td><td>1659</td><td>adult-fiction</td></tr><tr><td>The Alchemist</td><td>865</td><td>334</td><td>20774</td><td>my-books</td></tr><tr><td>The Alchemist</td><td>865</td><td>334</td><td>14487</td><td>historical-fiction</td></tr><tr><td>The Alchemist</td><td>865</td><td>333</td><td>18045</td><td>library</td></tr><tr><td>The Alchemist</td><td>865</td><td>330</td><td>12948</td><td>general-fiction</td></tr><tr><td>The Alchemist</td><td>865</td><td>321</td><td>7563</td><td>clàssics</td></tr><tr><td>The Alchemist</td><td>865</td><td>308</td><td>3389</td><td>audiobook</td></tr><tr><td>The Alchemist</td><td>865</td><td>297</td><td>20849</td><td>my-library</td></tr><tr><td>The Alchemist</td><td>865</td><td>274</td><td>11497</td><td>favorite</td></tr><tr><td>The Alchemist</td><td>865</td><td>265</td><td>9221</td><td>default</td></tr><tr><td>The Alchemist</td><td>865</td><td>246</td><td>3392</td><td>audiobooks</td></tr><tr><td>The Alchemist</td><td>865</td><td>240</td><td>17213</td><td>kindle</td></tr><tr><td>The Alchemist</td><td>865</td><td>238</td><td>25647</td><td>religion</td></tr><tr><td>The Alchemist</td><td>865</td><td>236</td><td>8067</td><td>contemporary-fiction</td></tr><tr><td>The Alchemist</td><td>865</td><td>235</td><td>26735</td><td>school</td></tr><tr><td>The Alchemist</td><td>865</td><td>223</td><td>5051</td><td>bookclub</td></tr><tr><td>The Alchemist</td><td>865</td><td>216</td><td>18326</td><td>literary-fiction</td></tr><tr><td>The Alchemist</td><td>865</td><td>207</td><td>24960</td><td>re-read</td></tr><tr><td>The Alchemist</td><td>865</td><td>204</td><td>10644</td><td>english</td></tr><tr><td>The Alchemist</td><td>865</td><td>198</td><td>11978</td><td>finished</td></tr><tr><td>The Alchemist</td><td>865</td><td>198</td><td>5090</td><td>books</td></tr><tr><td>The Alchemist</td><td>865</td><td>198</td><td>31155</td><td>travel</td></tr><tr><td>The Alchemist</td><td>865</td><td>191</td><td>15169</td><td>i-own</td></tr><tr><td>The Alchemist</td><td>865</td><td>184</td><td>5481</td><td>borrowed</td></tr><tr><td>The Alchemist</td><td>865</td><td>184</td><td>23465</td><td>philosophical</td></tr><tr><td>The Alchemist</td><td>865</td><td>179</td><td>10197</td><td>ebook</td></tr><tr><td>The Alchemist</td><td>865</td><td>179</td><td>2104</td><td>all-time-favorites</td></tr><tr><td>The Alchemist</td><td>865</td><td>175</td><td>11505</td><td>favorite-books</td></tr><tr><td>The Alchemist</td><td>865</td><td>166</td><td>33114</td><td>young-adult</td></tr><tr><td>The Alchemist</td><td>865</td><td>165</td><td>1416</td><td>abandoned</td></tr><tr><td>The Alchemist</td><td>865</td><td>163</td><td>27535</td><td>shelfari-favorites</td></tr><tr><td>The Alchemist</td><td>865</td><td>159</td><td>25152</td><td>read-in-2016</td></tr><tr><td>The Alchemist</td><td>865</td><td>159</td><td>22689</td><td>own-it</td></tr><tr><td>The Alchemist</td><td>865</td><td>155</td><td>25151</td><td>read-in-2015</td></tr><tr><td>The Alchemist</td><td>865</td><td>146</td><td>3371</td><td>audio</td></tr><tr><td>The Alchemist</td><td>865</td><td>145</td><td>9886</td><td>drama</td></tr><tr><td>The Alchemist</td><td>865</td><td>144</td><td>15642</td><td>inspiring</td></tr><tr><td>The Alchemist</td><td>865</td><td>142</td><td>31133</td><td>translated</td></tr><tr><td>The Alchemist</td><td>865</td><td>139</td><td>923</td><td>20th-century</td></tr><tr><td>The Alchemist</td><td>865</td><td>136</td><td>30672</td><td>to-read-fiction</td></tr><tr><td>The Alchemist</td><td>865</td><td>134</td><td>25150</td><td>read-in-2014</td></tr><tr><td>The Alchemist</td><td>865</td><td>131</td><td>10210</td><td>ebooks</td></tr><tr><td>The Alchemist</td><td>865</td><td>128</td><td>15624</td><td>inspiration</td></tr><tr><td>The Alchemist</td><td>865</td><td>127</td><td>32586</td><td>wish-list</td></tr><tr><td>The Alchemist</td><td>865</td><td>126</td><td>11574</td><td>favourite</td></tr><tr><td>The Alchemist</td><td>865</td><td>125</td><td>7606</td><td>coelho</td></tr><tr><td>The Alchemist</td><td>865</td><td>124</td><td>20731</td><td>must-read</td></tr><tr><td>The Alchemist</td><td>865</td><td>124</td><td>1746</td><td>africa</td></tr><tr><td>The Alchemist</td><td>865</td><td>119</td><td>5656</td><td>brazilian</td></tr><tr><td>The Alchemist</td><td>865</td><td>118</td><td>20824</td><td>my-favorites</td></tr><tr><td>The Alchemist</td><td>865</td><td>117</td><td>4959</td><td>book-club-books</td></tr><tr><td>The Alchemist</td><td>865</td><td>116</td><td>22545</td><td>other</td></tr><tr><td>The Alchemist</td><td>865</td><td>116</td><td>18318</td><td>literary</td></tr><tr><td>The Alchemist</td><td>865</td><td>116</td><td>25153</td><td>read-in-2017</td></tr><tr><td>The Alchemist</td><td>865</td><td>113</td><td>21689</td><td>non-fiction</td></tr><tr><td>The Alchemist</td><td>865</td><td>111</td><td>23334</td><td>personal-development</td></tr><tr><td>The Alchemist</td><td>865</td><td>110</td><td>20282</td><td>modern-classics</td></tr><tr><td>The Alchemist</td><td>865</td><td>110</td><td>29614</td><td>the-alchemist</td></tr><tr><td>The Alchemist</td><td>865</td><td>109</td><td>27111</td><td>self-improvement</td></tr><tr><td>The Alchemist</td><td>865</td><td>107</td><td>30573</td><td>to-re-read</td></tr><tr><td>The Alchemist</td><td>865</td><td>107</td><td>31505</td><td>unfinished</td></tr><tr><td>The Alchemist</td><td>865</td><td>106</td><td>17640</td><td>latin-american</td></tr><tr><td>The Alchemist</td><td>865</td><td>104</td><td>11106</td><td>fable</td></tr><tr><td>The Alchemist</td><td>865</td><td>102</td><td>25506</td><td>recommended</td></tr><tr><td>The Alchemist</td><td>865</td><td>102</td><td>5655</td><td>brazil</td></tr><tr><td>The Alchemist</td><td>865</td><td>101</td><td>26138</td><td>romance</td></tr><tr><td>The Alchemist</td><td>865</td><td>101</td><td>12315</td><td>for-school</td></tr><tr><td>The Alchemist</td><td>865</td><td>100</td><td>4985</td><td>book-group</td></tr><tr><td>The Alchemist</td><td>865</td><td>99</td><td>20520</td><td>motivational</td></tr><tr><td>The Alchemist</td><td>865</td><td>99</td><td>20288</td><td>modern-fiction</td></tr><tr><td>The Alchemist</td><td>865</td><td>97</td><td>28259</td><td>spain</td></tr><tr><td>The Alchemist</td><td>865</td><td>96</td><td>18130</td><td>life</td></tr><tr><td>The Alchemist</td><td>865</td><td>95</td><td>25149</td><td>read-in-2013</td></tr></table>"
                    },
                    "metadata": {}
                }
            ],
            "execution_count": 38
        },
        {
            "cell_type": "markdown",
            "source": [
                "## **QUESTION 6:** Find a book based on a tag of your choice using joins.\n",
                "\n",
                "Some suggestions: any hobbies you like? baking, drawing, etc. how about favorite holidays, subjects, animals, etc?\n",
                "\n",
                "**Part A:** Explore the tags table for a tag of your choice.  Suggested ideas, try searching for one of your hobbies, a favorite time of year, favorite animal, etc.  Start by querying the tag table for your chosen tag.  (_Hint:_ in order to make sure you find all combinations of your tags, use the wildcard).  If your query returns more than one result, pick your favorite.\n",
                "\n",
                "> > _Here is an example.  Alyce wanted to search for halloween books.  She used the wildcard, '%halloween%' and 8 different combinations were found.  Alyce selected '**halloween-storytime**', with a tag id of 13877._\n",
                "\n",
                "> _Minimum Desired Output:_ <span style=\"font-family: -apple-system, BlinkMacSystemFont, sans-serif; background-color: rgba(127, 127, 127, 0.1);\">tag name and tag id</span>\n",
                "\n",
                "> **Your Tag and Tag Id: Plants 23722**\n",
                "\n",
                "**Part B:** Now that you have the **tag id**, find the title that was tagged the most with this tag by joining the books and books\\_tags tables.\n",
                "\n",
                "> > _Alyce joined the book table with the tags table and discovered that <u>The Little Old Lady Who Was Not Afraid of Anything</u> was tagged as '**halloween-storytime**' the most._\n",
                "\n",
                "> _Minimum Desired Output:_ <span style=\"background-color: rgba(127, 127, 127, 0.1); font-family: -apple-system, BlinkMacSystemFont, sans-serif;\">title and tag count</span>\n",
                "\n",
                "> **Your Title and Number of times the tag was used: The Botany of Desire: A Plant's Eye View was tagged as \"plants\" 53 times. The total times the tag was used across all 3 books is 90.**"
            ],
            "metadata": {
                "azdata_cell_guid": "df783e7e-3aff-4e63-9edb-f2e729c7d1c8"
            },
            "attachments": {}
        },
        {
            "cell_type": "code",
            "source": [
                "-- Code Here:\r\n",
                "\r\n",
                "-- part a \r\n",
                "SELECT *\r\n",
                "FROM tags\r\n",
                "WHERE tag_name LIKE '%plant%'\r\n",
                "\r\n",
                "-- part b\r\n",
                "SELECT b.title, b.average_rating, b.books_count, bt.goodreads_book_id, bt.tag_id, bt.count\r\n",
                "FROM BooksDB.dbo.books AS b\r\n",
                "JOIN BooksDB.dbo.book_tags AS bt \r\n",
                "ON b.best_book_id = bt.goodreads_book_id\r\n",
                "WHERE bt.tag_id = 23722\r\n",
                "ORDER BY bt.count DESC\r\n",
                "\r\n",
                "select sum(count) as \"Total count for plants tag\" -- adding together the quantities from the rows of \"count\" for this book\r\n",
                "from book_tags\r\n",
                "WHERE tag_id = 23722"
            ],
            "metadata": {
                "azdata_cell_guid": "c4b0b67c-7cfa-4f52-be97-ffe5cc28ed54",
                "tags": [],
                "language": "sql"
            },
            "outputs": [
                {
                    "output_type": "display_data",
                    "data": {
                        "text/html": "(16 rows affected)"
                    },
                    "metadata": {}
                },
                {
                    "output_type": "display_data",
                    "data": {
                        "text/html": "(3 rows affected)"
                    },
                    "metadata": {}
                },
                {
                    "output_type": "display_data",
                    "data": {
                        "text/html": "(1 row affected)"
                    },
                    "metadata": {}
                },
                {
                    "output_type": "display_data",
                    "data": {
                        "text/html": "Total execution time: 00:00:00.254"
                    },
                    "metadata": {}
                },
                {
                    "output_type": "execute_result",
                    "execution_count": 23,
                    "data": {
                        "application/vnd.dataresource+json": {
                            "schema": {
                                "fields": [
                                    {
                                        "name": "tag_id"
                                    },
                                    {
                                        "name": "tag_name"
                                    }
                                ]
                            },
                            "data": [
                                {
                                    "0": "4903",
                                    "1": "bone-marrow-transplant"
                                },
                                {
                                    "0": "7294",
                                    "1": "church-planting"
                                },
                                {
                                    "0": "8118",
                                    "1": "cook-books-plant-based"
                                },
                                {
                                    "0": "8341",
                                    "1": "cotton-plantations"
                                },
                                {
                                    "0": "14184",
                                    "1": "heart-transplant"
                                },
                                {
                                    "0": "23714",
                                    "1": "plant"
                                },
                                {
                                    "0": "23715",
                                    "1": "plant-based"
                                },
                                {
                                    "0": "23716",
                                    "1": "plantagenet"
                                },
                                {
                                    "0": "23717",
                                    "1": "plantagenets"
                                },
                                {
                                    "0": "23718",
                                    "1": "plantation"
                                },
                                {
                                    "0": "23719",
                                    "1": "plantation-life"
                                },
                                {
                                    "0": "23720",
                                    "1": "plantations"
                                },
                                {
                                    "0": "23721",
                                    "1": "planting"
                                },
                                {
                                    "0": "23722",
                                    "1": "plants"
                                },
                                {
                                    "0": "23723",
                                    "1": "plants-fruits-vegetables"
                                },
                                {
                                    "0": "31144",
                                    "1": "transplantation"
                                }
                            ]
                        },
                        "text/html": "<table><tr><th>tag_id</th><th>tag_name</th></tr><tr><td>4903</td><td>bone-marrow-transplant</td></tr><tr><td>7294</td><td>church-planting</td></tr><tr><td>8118</td><td>cook-books-plant-based</td></tr><tr><td>8341</td><td>cotton-plantations</td></tr><tr><td>14184</td><td>heart-transplant</td></tr><tr><td>23714</td><td>plant</td></tr><tr><td>23715</td><td>plant-based</td></tr><tr><td>23716</td><td>plantagenet</td></tr><tr><td>23717</td><td>plantagenets</td></tr><tr><td>23718</td><td>plantation</td></tr><tr><td>23719</td><td>plantation-life</td></tr><tr><td>23720</td><td>plantations</td></tr><tr><td>23721</td><td>planting</td></tr><tr><td>23722</td><td>plants</td></tr><tr><td>23723</td><td>plants-fruits-vegetables</td></tr><tr><td>31144</td><td>transplantation</td></tr></table>"
                    },
                    "metadata": {}
                },
                {
                    "output_type": "execute_result",
                    "execution_count": 23,
                    "data": {
                        "application/vnd.dataresource+json": {
                            "schema": {
                                "fields": [
                                    {
                                        "name": "title"
                                    },
                                    {
                                        "name": "average_rating"
                                    },
                                    {
                                        "name": "books_count"
                                    },
                                    {
                                        "name": "goodreads_book_id"
                                    },
                                    {
                                        "name": "tag_id"
                                    },
                                    {
                                        "name": "count"
                                    }
                                ]
                            },
                            "data": [
                                {
                                    "0": "The Botany of Desire: A Plant's-Eye View of the World",
                                    "1": "4.05",
                                    "2": "32",
                                    "3": "13839",
                                    "4": "23722",
                                    "5": "53"
                                },
                                {
                                    "0": "The Carrot Seed",
                                    "1": "4.07",
                                    "2": "28",
                                    "3": "857418",
                                    "4": "23722",
                                    "5": "23"
                                },
                                {
                                    "0": "Lab Girl",
                                    "1": "4.04",
                                    "2": "27",
                                    "3": "25733983",
                                    "4": "23722",
                                    "5": "14"
                                }
                            ]
                        },
                        "text/html": "<table><tr><th>title</th><th>average_rating</th><th>books_count</th><th>goodreads_book_id</th><th>tag_id</th><th>count</th></tr><tr><td>The Botany of Desire: A Plant's-Eye View of the World</td><td>4.05</td><td>32</td><td>13839</td><td>23722</td><td>53</td></tr><tr><td>The Carrot Seed</td><td>4.07</td><td>28</td><td>857418</td><td>23722</td><td>23</td></tr><tr><td>Lab Girl</td><td>4.04</td><td>27</td><td>25733983</td><td>23722</td><td>14</td></tr></table>"
                    },
                    "metadata": {}
                },
                {
                    "output_type": "execute_result",
                    "execution_count": 23,
                    "data": {
                        "application/vnd.dataresource+json": {
                            "schema": {
                                "fields": [
                                    {
                                        "name": "Total count for plants tag"
                                    }
                                ]
                            },
                            "data": [
                                {
                                    "0": "90"
                                }
                            ]
                        },
                        "text/html": "<table><tr><th>Total count for plants tag</th></tr><tr><td>90</td></tr></table>"
                    },
                    "metadata": {}
                }
            ],
            "execution_count": 23
        },
        {
            "cell_type": "markdown",
            "source": [
                "## **QUESTION 7:** What are the top 10 most popular book titles on the 'to read' list?\n",
                "\n",
                "**Part A:**  Explore how the **to\\_read** and **books** tables are organized, and then join them.  What will you use as a key?\n",
                "\n",
                "> Your Answer: I used the best\\_book\\_id in books and the book\\_id column in the to read table to join them together.\n",
                "\n",
                "**Part B:** Organize your newly joined table in a way that groups popularity based on the title based on users.\n",
                "\n",
                "> _Hint:_ Suggest using an alias for the aggregation you will need to run on the **user\\_id**\n",
                "\n",
                "> _Minimum Desired Output:_ title and aliased column"
            ],
            "metadata": {
                "azdata_cell_guid": "4e5349b7-24f6-481a-9d88-bb4f86abc624"
            },
            "attachments": {}
        },
        {
            "cell_type": "code",
            "source": [
                "-- book tags table columns:  \r\n",
                "--          goodreads_book_id = the id of the book\r\n",
                "--          tag_id = matches to a specific tag that can be found in the tags table.\r\n",
                "--          count = the number of times this tag was used for this book.\r\n",
                "\r\n",
                "-- CREATE VIEW books_by_user AS (lol got an error that access is denied for creating views in database. thought i could save myself some time by createing a view)\r\n",
                "\r\n",
                "-- part a\r\n",
                "\r\n",
                "select top 5 * -- exploring tables\r\n",
                "FROM to_read\r\n",
                "\r\n",
                "select top 5 *  -- exploring tables\r\n",
                "FROM books\r\n",
                "\r\n",
                "SELECT top 50 b.title, tr.book_id, tr.user_id\r\n",
                "FROM books AS b\r\n",
                "JOIN to_read as tr -- 83557 rows when inner joined, many more rows when nulls included; joined the two tables. looks to be automatically ordered by ascending user_id if no order specified\r\n",
                "ON b.best_book_id = tr.book_id\r\n",
                "ORDER BY b.title \r\n",
                "\r\n",
                "-- Part B --\r\n",
                "SELECT top 50 b.title, count(tr.user_id) as '# of Users Who Saved Title'\r\n",
                "FROM books AS b\r\n",
                "JOIN to_read as tr \r\n",
                "ON b.best_book_id = tr.book_id\r\n",
                "GROUP by b.title \r\n",
                "ORDER BY count(tr.user_id) DESC"
            ],
            "metadata": {
                "language": "sql",
                "azdata_cell_guid": "eb923f5c-5df4-4fe6-83f4-c96ac4189aaf",
                "tags": []
            },
            "outputs": [
                {
                    "output_type": "display_data",
                    "data": {
                        "text/html": "(50 rows affected)"
                    },
                    "metadata": {}
                },
                {
                    "output_type": "display_data",
                    "data": {
                        "text/html": "(50 rows affected)"
                    },
                    "metadata": {}
                },
                {
                    "output_type": "display_data",
                    "data": {
                        "text/html": "Total execution time: 00:00:07.182"
                    },
                    "metadata": {}
                },
                {
                    "output_type": "execute_result",
                    "execution_count": 35,
                    "data": {
                        "application/vnd.dataresource+json": {
                            "schema": {
                                "fields": [
                                    {
                                        "name": "title"
                                    },
                                    {
                                        "name": "book_id"
                                    },
                                    {
                                        "name": "user_id"
                                    }
                                ]
                            },
                            "data": [
                                {
                                    "0": "1421: The Year China Discovered America",
                                    "1": "4813",
                                    "2": "3884"
                                },
                                {
                                    "0": "1421: The Year China Discovered America",
                                    "1": "4813",
                                    "2": "4452"
                                },
                                {
                                    "0": "1421: The Year China Discovered America",
                                    "1": "4813",
                                    "2": "6421"
                                },
                                {
                                    "0": "1421: The Year China Discovered America",
                                    "1": "4813",
                                    "2": "8273"
                                },
                                {
                                    "0": "1421: The Year China Discovered America",
                                    "1": "4813",
                                    "2": "9127"
                                },
                                {
                                    "0": "1421: The Year China Discovered America",
                                    "1": "4813",
                                    "2": "20535"
                                },
                                {
                                    "0": "1421: The Year China Discovered America",
                                    "1": "4813",
                                    "2": "24039"
                                },
                                {
                                    "0": "1421: The Year China Discovered America",
                                    "1": "4813",
                                    "2": "27571"
                                },
                                {
                                    "0": "1421: The Year China Discovered America",
                                    "1": "4813",
                                    "2": "29254"
                                },
                                {
                                    "0": "1421: The Year China Discovered America",
                                    "1": "4813",
                                    "2": "30890"
                                },
                                {
                                    "0": "1421: The Year China Discovered America",
                                    "1": "4813",
                                    "2": "31048"
                                },
                                {
                                    "0": "1421: The Year China Discovered America",
                                    "1": "4813",
                                    "2": "34073"
                                },
                                {
                                    "0": "1421: The Year China Discovered America",
                                    "1": "4813",
                                    "2": "34131"
                                },
                                {
                                    "0": "1421: The Year China Discovered America",
                                    "1": "4813",
                                    "2": "38973"
                                },
                                {
                                    "0": "1421: The Year China Discovered America",
                                    "1": "4813",
                                    "2": "42026"
                                },
                                {
                                    "0": "1421: The Year China Discovered America",
                                    "1": "4813",
                                    "2": "43050"
                                },
                                {
                                    "0": "1776",
                                    "1": "1067",
                                    "2": "673"
                                },
                                {
                                    "0": "1776",
                                    "1": "1067",
                                    "2": "3427"
                                },
                                {
                                    "0": "1776",
                                    "1": "1067",
                                    "2": "4461"
                                },
                                {
                                    "0": "1776",
                                    "1": "1067",
                                    "2": "5703"
                                },
                                {
                                    "0": "1776",
                                    "1": "1067",
                                    "2": "5786"
                                },
                                {
                                    "0": "1776",
                                    "1": "1067",
                                    "2": "6537"
                                },
                                {
                                    "0": "1776",
                                    "1": "1067",
                                    "2": "7911"
                                },
                                {
                                    "0": "1776",
                                    "1": "1067",
                                    "2": "8183"
                                },
                                {
                                    "0": "1776",
                                    "1": "1067",
                                    "2": "8353"
                                },
                                {
                                    "0": "1776",
                                    "1": "1067",
                                    "2": "8554"
                                },
                                {
                                    "0": "1776",
                                    "1": "1067",
                                    "2": "10206"
                                },
                                {
                                    "0": "1776",
                                    "1": "1067",
                                    "2": "10544"
                                },
                                {
                                    "0": "1776",
                                    "1": "1067",
                                    "2": "11068"
                                },
                                {
                                    "0": "1776",
                                    "1": "1067",
                                    "2": "11275"
                                },
                                {
                                    "0": "1776",
                                    "1": "1067",
                                    "2": "11924"
                                },
                                {
                                    "0": "1776",
                                    "1": "1067",
                                    "2": "12356"
                                },
                                {
                                    "0": "1776",
                                    "1": "1067",
                                    "2": "12644"
                                },
                                {
                                    "0": "1776",
                                    "1": "1067",
                                    "2": "12695"
                                },
                                {
                                    "0": "1776",
                                    "1": "1067",
                                    "2": "13280"
                                },
                                {
                                    "0": "1776",
                                    "1": "1067",
                                    "2": "13308"
                                },
                                {
                                    "0": "1776",
                                    "1": "1067",
                                    "2": "14642"
                                },
                                {
                                    "0": "1776",
                                    "1": "1067",
                                    "2": "15015"
                                },
                                {
                                    "0": "1776",
                                    "1": "1067",
                                    "2": "15434"
                                },
                                {
                                    "0": "1776",
                                    "1": "1067",
                                    "2": "15738"
                                },
                                {
                                    "0": "1776",
                                    "1": "1067",
                                    "2": "16029"
                                },
                                {
                                    "0": "1776",
                                    "1": "1067",
                                    "2": "16617"
                                },
                                {
                                    "0": "1776",
                                    "1": "1067",
                                    "2": "18180"
                                },
                                {
                                    "0": "1776",
                                    "1": "1067",
                                    "2": "19618"
                                },
                                {
                                    "0": "1776",
                                    "1": "1067",
                                    "2": "21389"
                                },
                                {
                                    "0": "1776",
                                    "1": "1067",
                                    "2": "23688"
                                },
                                {
                                    "0": "1776",
                                    "1": "1067",
                                    "2": "25491"
                                },
                                {
                                    "0": "1776",
                                    "1": "1067",
                                    "2": "25845"
                                },
                                {
                                    "0": "1776",
                                    "1": "1067",
                                    "2": "26674"
                                },
                                {
                                    "0": "1776",
                                    "1": "1067",
                                    "2": "27197"
                                }
                            ]
                        },
                        "text/html": "<table><tr><th>title</th><th>book_id</th><th>user_id</th></tr><tr><td>1421: The Year China Discovered America</td><td>4813</td><td>3884</td></tr><tr><td>1421: The Year China Discovered America</td><td>4813</td><td>4452</td></tr><tr><td>1421: The Year China Discovered America</td><td>4813</td><td>6421</td></tr><tr><td>1421: The Year China Discovered America</td><td>4813</td><td>8273</td></tr><tr><td>1421: The Year China Discovered America</td><td>4813</td><td>9127</td></tr><tr><td>1421: The Year China Discovered America</td><td>4813</td><td>20535</td></tr><tr><td>1421: The Year China Discovered America</td><td>4813</td><td>24039</td></tr><tr><td>1421: The Year China Discovered America</td><td>4813</td><td>27571</td></tr><tr><td>1421: The Year China Discovered America</td><td>4813</td><td>29254</td></tr><tr><td>1421: The Year China Discovered America</td><td>4813</td><td>30890</td></tr><tr><td>1421: The Year China Discovered America</td><td>4813</td><td>31048</td></tr><tr><td>1421: The Year China Discovered America</td><td>4813</td><td>34073</td></tr><tr><td>1421: The Year China Discovered America</td><td>4813</td><td>34131</td></tr><tr><td>1421: The Year China Discovered America</td><td>4813</td><td>38973</td></tr><tr><td>1421: The Year China Discovered America</td><td>4813</td><td>42026</td></tr><tr><td>1421: The Year China Discovered America</td><td>4813</td><td>43050</td></tr><tr><td>1776</td><td>1067</td><td>673</td></tr><tr><td>1776</td><td>1067</td><td>3427</td></tr><tr><td>1776</td><td>1067</td><td>4461</td></tr><tr><td>1776</td><td>1067</td><td>5703</td></tr><tr><td>1776</td><td>1067</td><td>5786</td></tr><tr><td>1776</td><td>1067</td><td>6537</td></tr><tr><td>1776</td><td>1067</td><td>7911</td></tr><tr><td>1776</td><td>1067</td><td>8183</td></tr><tr><td>1776</td><td>1067</td><td>8353</td></tr><tr><td>1776</td><td>1067</td><td>8554</td></tr><tr><td>1776</td><td>1067</td><td>10206</td></tr><tr><td>1776</td><td>1067</td><td>10544</td></tr><tr><td>1776</td><td>1067</td><td>11068</td></tr><tr><td>1776</td><td>1067</td><td>11275</td></tr><tr><td>1776</td><td>1067</td><td>11924</td></tr><tr><td>1776</td><td>1067</td><td>12356</td></tr><tr><td>1776</td><td>1067</td><td>12644</td></tr><tr><td>1776</td><td>1067</td><td>12695</td></tr><tr><td>1776</td><td>1067</td><td>13280</td></tr><tr><td>1776</td><td>1067</td><td>13308</td></tr><tr><td>1776</td><td>1067</td><td>14642</td></tr><tr><td>1776</td><td>1067</td><td>15015</td></tr><tr><td>1776</td><td>1067</td><td>15434</td></tr><tr><td>1776</td><td>1067</td><td>15738</td></tr><tr><td>1776</td><td>1067</td><td>16029</td></tr><tr><td>1776</td><td>1067</td><td>16617</td></tr><tr><td>1776</td><td>1067</td><td>18180</td></tr><tr><td>1776</td><td>1067</td><td>19618</td></tr><tr><td>1776</td><td>1067</td><td>21389</td></tr><tr><td>1776</td><td>1067</td><td>23688</td></tr><tr><td>1776</td><td>1067</td><td>25491</td></tr><tr><td>1776</td><td>1067</td><td>25845</td></tr><tr><td>1776</td><td>1067</td><td>26674</td></tr><tr><td>1776</td><td>1067</td><td>27197</td></tr></table>"
                    },
                    "metadata": {}
                },
                {
                    "output_type": "execute_result",
                    "execution_count": 35,
                    "data": {
                        "application/vnd.dataresource+json": {
                            "schema": {
                                "fields": [
                                    {
                                        "name": "title"
                                    },
                                    {
                                        "name": "# of Users Who Saved Title"
                                    }
                                ]
                            },
                            "data": [
                                {
                                    "0": "The Ultimate Hitchhiker's Guide to the Galaxy",
                                    "1": "1812"
                                },
                                {
                                    "0": "The Lord of the Rings: The Art of The Fellowship of the Ring",
                                    "1": "1499"
                                },
                                {
                                    "0": "Harry Potter Boxed Set, Books 1-5 (Harry Potter, #1-5)",
                                    "1": "1498"
                                },
                                {
                                    "0": "Harry Potter and the Goblet of Fire (Harry Potter, #4)",
                                    "1": "1484"
                                },
                                {
                                    "0": "The Known World",
                                    "1": "1352"
                                },
                                {
                                    "0": "Harry Potter and the Prisoner of Azkaban (Harry Potter, #3)",
                                    "1": "1293"
                                },
                                {
                                    "0": "The Lord of the Rings: Weapons and Warfare",
                                    "1": "1211"
                                },
                                {
                                    "0": "Notes from a Small Island",
                                    "1": "1148"
                                },
                                {
                                    "0": "Harry Potter Collection (Harry Potter, #1-6)",
                                    "1": "1110"
                                },
                                {
                                    "0": "The Lord of the Rings (The Lord of the Rings, #1-3)",
                                    "1": "1094"
                                },
                                {
                                    "0": "The Salmon of Doubt (Dirk Gently, #3)",
                                    "1": "1069"
                                },
                                {
                                    "0": "Dune Messiah (Dune Chronicles #2)",
                                    "1": "1051"
                                },
                                {
                                    "0": "Treasure Island",
                                    "1": "1040"
                                },
                                {
                                    "0": "Tropic of Cancer",
                                    "1": "1007"
                                },
                                {
                                    "0": "Harry Potter and the Half-Blood Prince (Harry Potter, #6)",
                                    "1": "973"
                                },
                                {
                                    "0": "Children of Dune (Dune Chronicles #3)",
                                    "1": "913"
                                },
                                {
                                    "0": "The Power of One (The Power of One, #1)",
                                    "1": "866"
                                },
                                {
                                    "0": "Heretics of Dune (Dune Chronicles #5)",
                                    "1": "815"
                                },
                                {
                                    "0": "J.R.R. Tolkien 4-Book Boxed Set: The Hobbit and The Lord of the Rings",
                                    "1": "801"
                                },
                                {
                                    "0": "Job: A Comedy of Justice",
                                    "1": "737"
                                },
                                {
                                    "0": "The Door Into Summer",
                                    "1": "724"
                                },
                                {
                                    "0": "I am Charlotte Simmons",
                                    "1": "661"
                                },
                                {
                                    "0": "The Broken Wings",
                                    "1": "659"
                                },
                                {
                                    "0": "Killing Yourself to Live: 85% of a True Story",
                                    "1": "608"
                                },
                                {
                                    "0": "The Portrait of a Lady",
                                    "1": "580"
                                },
                                {
                                    "0": "The Lover",
                                    "1": "567"
                                },
                                {
                                    "0": "Slouching Towards Bethlehem",
                                    "1": "564"
                                },
                                {
                                    "0": "We the Living",
                                    "1": "563"
                                },
                                {
                                    "0": "Cryptonomicon",
                                    "1": "551"
                                },
                                {
                                    "0": "Fullmetal Alchemist, Vol. 1 (Fullmetal Alchemist, #1)",
                                    "1": "533"
                                },
                                {
                                    "0": "Libra",
                                    "1": "525"
                                },
                                {
                                    "0": "Maurice",
                                    "1": "525"
                                },
                                {
                                    "0": "Chapterhouse: Dune (Dune Chronicles #6)",
                                    "1": "513"
                                },
                                {
                                    "0": "One Hundred Years of Solitude",
                                    "1": "504"
                                },
                                {
                                    "0": "What to Expect the First Year (What to Expect)",
                                    "1": "495"
                                },
                                {
                                    "0": "I'm a Stranger Here Myself: Notes on Returning to America after Twenty Years Away",
                                    "1": "484"
                                },
                                {
                                    "0": "The Fellowship of the Ring (The Lord of the Rings, #1)",
                                    "1": "450"
                                },
                                {
                                    "0": "The Lost Continent: Travels in Small Town America",
                                    "1": "447"
                                },
                                {
                                    "0": "Everyday Italian: 125 Simple and Delicious Recipes",
                                    "1": "445"
                                },
                                {
                                    "0": "Heidi",
                                    "1": "439"
                                },
                                {
                                    "0": "Dirk Gently's Holistic Detective Agency (Dirk Gently #1)",
                                    "1": "438"
                                },
                                {
                                    "0": "Tropic of Capricorn",
                                    "1": "438"
                                },
                                {
                                    "0": "Neither Here nor There: Travels in Europe",
                                    "1": "438"
                                },
                                {
                                    "0": "City of Glass (The New York Trilogy, #1)",
                                    "1": "435"
                                },
                                {
                                    "0": "In a Sunburned Country",
                                    "1": "431"
                                },
                                {
                                    "0": "The Virtue of Selfishness: A New Concept of Egoism",
                                    "1": "430"
                                },
                                {
                                    "0": "A Short History of Nearly Everything",
                                    "1": "427"
                                },
                                {
                                    "0": "Harry Potter and the Order of the Phoenix (Harry Potter, #5)",
                                    "1": "400"
                                },
                                {
                                    "0": "Sherlock Holmes: The Complete Novels and Stories, Volume I",
                                    "1": "387"
                                },
                                {
                                    "0": "Daniel Deronda",
                                    "1": "385"
                                }
                            ]
                        },
                        "text/html": "<table><tr><th>title</th><th># of Users Who Saved Title</th></tr><tr><td>The Ultimate Hitchhiker's Guide to the Galaxy</td><td>1812</td></tr><tr><td>The Lord of the Rings: The Art of The Fellowship of the Ring</td><td>1499</td></tr><tr><td>Harry Potter Boxed Set, Books 1-5 (Harry Potter, #1-5)</td><td>1498</td></tr><tr><td>Harry Potter and the Goblet of Fire (Harry Potter, #4)</td><td>1484</td></tr><tr><td>The Known World</td><td>1352</td></tr><tr><td>Harry Potter and the Prisoner of Azkaban (Harry Potter, #3)</td><td>1293</td></tr><tr><td>The Lord of the Rings: Weapons and Warfare</td><td>1211</td></tr><tr><td>Notes from a Small Island</td><td>1148</td></tr><tr><td>Harry Potter Collection (Harry Potter, #1-6)</td><td>1110</td></tr><tr><td>The Lord of the Rings (The Lord of the Rings, #1-3)</td><td>1094</td></tr><tr><td>The Salmon of Doubt (Dirk Gently, #3)</td><td>1069</td></tr><tr><td>Dune Messiah (Dune Chronicles #2)</td><td>1051</td></tr><tr><td>Treasure Island</td><td>1040</td></tr><tr><td>Tropic of Cancer</td><td>1007</td></tr><tr><td>Harry Potter and the Half-Blood Prince (Harry Potter, #6)</td><td>973</td></tr><tr><td>Children of Dune (Dune Chronicles #3)</td><td>913</td></tr><tr><td>The Power of One (The Power of One, #1)</td><td>866</td></tr><tr><td>Heretics of Dune (Dune Chronicles #5)</td><td>815</td></tr><tr><td>J.R.R. Tolkien 4-Book Boxed Set: The Hobbit and The Lord of the Rings</td><td>801</td></tr><tr><td>Job: A Comedy of Justice</td><td>737</td></tr><tr><td>The Door Into Summer</td><td>724</td></tr><tr><td>I am Charlotte Simmons</td><td>661</td></tr><tr><td>The Broken Wings</td><td>659</td></tr><tr><td>Killing Yourself to Live: 85% of a True Story</td><td>608</td></tr><tr><td>The Portrait of a Lady</td><td>580</td></tr><tr><td>The Lover</td><td>567</td></tr><tr><td>Slouching Towards Bethlehem</td><td>564</td></tr><tr><td>We the Living</td><td>563</td></tr><tr><td>Cryptonomicon</td><td>551</td></tr><tr><td>Fullmetal Alchemist, Vol. 1 (Fullmetal Alchemist, #1)</td><td>533</td></tr><tr><td>Libra</td><td>525</td></tr><tr><td>Maurice</td><td>525</td></tr><tr><td>Chapterhouse: Dune (Dune Chronicles #6)</td><td>513</td></tr><tr><td>One Hundred Years of Solitude</td><td>504</td></tr><tr><td>What to Expect the First Year (What to Expect)</td><td>495</td></tr><tr><td>I'm a Stranger Here Myself: Notes on Returning to America after Twenty Years Away</td><td>484</td></tr><tr><td>The Fellowship of the Ring (The Lord of the Rings, #1)</td><td>450</td></tr><tr><td>The Lost Continent: Travels in Small Town America</td><td>447</td></tr><tr><td>Everyday Italian: 125 Simple and Delicious Recipes</td><td>445</td></tr><tr><td>Heidi</td><td>439</td></tr><tr><td>Dirk Gently's Holistic Detective Agency (Dirk Gently #1)</td><td>438</td></tr><tr><td>Tropic of Capricorn</td><td>438</td></tr><tr><td>Neither Here nor There: Travels in Europe</td><td>438</td></tr><tr><td>City of Glass (The New York Trilogy, #1)</td><td>435</td></tr><tr><td>In a Sunburned Country</td><td>431</td></tr><tr><td>The Virtue of Selfishness: A New Concept of Egoism</td><td>430</td></tr><tr><td>A Short History of Nearly Everything</td><td>427</td></tr><tr><td>Harry Potter and the Order of the Phoenix (Harry Potter, #5)</td><td>400</td></tr><tr><td>Sherlock Holmes: The Complete Novels and Stories, Volume I</td><td>387</td></tr><tr><td>Daniel Deronda</td><td>385</td></tr></table>"
                    },
                    "metadata": {}
                }
            ],
            "execution_count": 35
        },
        {
            "cell_type": "markdown",
            "source": [
                "## **QUESTION 8:** Largest 'To Read' Lists\n",
                "\n",
                "**Part A:**  Create a query that returns a table that contains the top 10 users with the most number of titles on their 'to read' list.    Group all the entries by user\\_id.  \n",
                "\n",
                "> _Hint:_ You might want an alias for the titles.\n",
                "> \n",
                "> _Minimum Desired Output:_  user\\_id and your aliased column of titles.\n",
                "\n",
                "**Part B:**  The longest list length is 15 titles total, and is shared by 4 different users.  Select one of the uses and print out their entire '**to read**' list."
            ],
            "metadata": {
                "azdata_cell_guid": "0b0090b0-2b28-44c6-8bb6-06b4c03c3ff1"
            },
            "attachments": {}
        },
        {
            "cell_type": "code",
            "source": [
                "-- Part A \r\n",
                "-- removed this part of code (\"b.title, b.best_book_id,\") and am now finally seeing the 15 now but i dont understand it. is this a self join like in that reading video?\r\n",
                "\r\n",
                "SELECT top 10 count(tr.book_id) AS \"Total Books to Read\", tr.user_id\r\n",
                "FROM books AS b\r\n",
                "join to_read AS tr \r\n",
                "ON b.best_book_id = tr.book_id\r\n",
                "group BY user_id \r\n",
                "order BY count(tr.book_id) DESC\r\n",
                "\r\n",
                "\r\n",
                "-- part b \r\n",
                "SELECT b.title, r.book_id, r.user_id\r\n",
                "FROM books AS b\r\n",
                "JOIN to_read as r\r\n",
                "ON b.best_book_id = r.book_id\r\n",
                "WHERE r.user_id LIKE '11932' -- list of book titles for user 11932. \r\n",
                ""
            ],
            "metadata": {
                "azdata_cell_guid": "21d16c7d-1a02-49bd-baed-576f6c7efa25",
                "language": "sql"
            },
            "outputs": [
                {
                    "output_type": "display_data",
                    "data": {
                        "text/html": "(10 rows affected)"
                    },
                    "metadata": {}
                },
                {
                    "output_type": "display_data",
                    "data": {
                        "text/html": "(15 rows affected)"
                    },
                    "metadata": {}
                },
                {
                    "output_type": "display_data",
                    "data": {
                        "text/html": "Total execution time: 00:00:00.506"
                    },
                    "metadata": {}
                },
                {
                    "output_type": "execute_result",
                    "execution_count": 235,
                    "data": {
                        "application/vnd.dataresource+json": {
                            "schema": {
                                "fields": [
                                    {
                                        "name": "Total Books to Read"
                                    },
                                    {
                                        "name": "user_id"
                                    }
                                ]
                            },
                            "data": [
                                {
                                    "0": "15",
                                    "1": "14771"
                                },
                                {
                                    "0": "15",
                                    "1": "38201"
                                },
                                {
                                    "0": "15",
                                    "1": "11932"
                                },
                                {
                                    "0": "15",
                                    "1": "12483"
                                },
                                {
                                    "0": "14",
                                    "1": "27933"
                                },
                                {
                                    "0": "14",
                                    "1": "36923"
                                },
                                {
                                    "0": "14",
                                    "1": "37359"
                                },
                                {
                                    "0": "13",
                                    "1": "6772"
                                },
                                {
                                    "0": "13",
                                    "1": "51137"
                                },
                                {
                                    "0": "13",
                                    "1": "42636"
                                }
                            ]
                        },
                        "text/html": "<table><tr><th>Total Books to Read</th><th>user_id</th></tr><tr><td>15</td><td>14771</td></tr><tr><td>15</td><td>38201</td></tr><tr><td>15</td><td>11932</td></tr><tr><td>15</td><td>12483</td></tr><tr><td>14</td><td>27933</td></tr><tr><td>14</td><td>36923</td></tr><tr><td>14</td><td>37359</td></tr><tr><td>13</td><td>6772</td></tr><tr><td>13</td><td>51137</td></tr><tr><td>13</td><td>42636</td></tr></table>"
                    },
                    "metadata": {}
                },
                {
                    "output_type": "execute_result",
                    "execution_count": 235,
                    "data": {
                        "application/vnd.dataresource+json": {
                            "schema": {
                                "fields": [
                                    {
                                        "name": "title"
                                    },
                                    {
                                        "name": "book_id"
                                    },
                                    {
                                        "name": "user_id"
                                    }
                                ]
                            },
                            "data": [
                                {
                                    "0": "Harry Potter and the Half-Blood Prince (Harry Potter, #6)",
                                    "1": "1",
                                    "2": "11932"
                                },
                                {
                                    "0": "Harry Potter and the Order of the Phoenix (Harry Potter, #5)",
                                    "1": "2",
                                    "2": "11932"
                                },
                                {
                                    "0": "Harry Potter and the Sorcerer's Stone (Harry Potter, #1)",
                                    "1": "3",
                                    "2": "11932"
                                },
                                {
                                    "0": "Harry Potter and the Prisoner of Azkaban (Harry Potter, #3)",
                                    "1": "5",
                                    "2": "11932"
                                },
                                {
                                    "0": "Harry Potter Boxed Set, Books 1-5 (Harry Potter, #1-5)",
                                    "1": "8",
                                    "2": "11932"
                                },
                                {
                                    "0": "Harry Potter Collection (Harry Potter, #1-6)",
                                    "1": "10",
                                    "2": "11932"
                                },
                                {
                                    "0": "The Ultimate Hitchhiker's Guide to the Galaxy",
                                    "1": "13",
                                    "2": "11932"
                                },
                                {
                                    "0": "I'm a Stranger Here Myself: Notes on Returning to America after Twenty Years Away",
                                    "1": "25",
                                    "2": "11932"
                                },
                                {
                                    "0": "Neither Here nor There: Travels in Europe",
                                    "1": "27",
                                    "2": "11932"
                                },
                                {
                                    "0": "The Mother Tongue: English and How It Got That Way",
                                    "1": "29",
                                    "2": "11932"
                                },
                                {
                                    "0": "The Lord of the Rings (The Lord of the Rings, #1-3)",
                                    "1": "33",
                                    "2": "11932"
                                },
                                {
                                    "0": "The Lord of the Rings: Weapons and Warfare",
                                    "1": "36",
                                    "2": "11932"
                                },
                                {
                                    "0": "Heretics of Dune (Dune Chronicles #5)",
                                    "1": "117",
                                    "2": "11932"
                                },
                                {
                                    "0": "The Lord of the Rings: The Art of The Fellowship of the Ring",
                                    "1": "119",
                                    "2": "11932"
                                },
                                {
                                    "0": "I am Charlotte Simmons",
                                    "1": "231",
                                    "2": "11932"
                                }
                            ]
                        },
                        "text/html": "<table><tr><th>title</th><th>book_id</th><th>user_id</th></tr><tr><td>Harry Potter and the Half-Blood Prince (Harry Potter, #6)</td><td>1</td><td>11932</td></tr><tr><td>Harry Potter and the Order of the Phoenix (Harry Potter, #5)</td><td>2</td><td>11932</td></tr><tr><td>Harry Potter and the Sorcerer's Stone (Harry Potter, #1)</td><td>3</td><td>11932</td></tr><tr><td>Harry Potter and the Prisoner of Azkaban (Harry Potter, #3)</td><td>5</td><td>11932</td></tr><tr><td>Harry Potter Boxed Set, Books 1-5 (Harry Potter, #1-5)</td><td>8</td><td>11932</td></tr><tr><td>Harry Potter Collection (Harry Potter, #1-6)</td><td>10</td><td>11932</td></tr><tr><td>The Ultimate Hitchhiker's Guide to the Galaxy</td><td>13</td><td>11932</td></tr><tr><td>I'm a Stranger Here Myself: Notes on Returning to America after Twenty Years Away</td><td>25</td><td>11932</td></tr><tr><td>Neither Here nor There: Travels in Europe</td><td>27</td><td>11932</td></tr><tr><td>The Mother Tongue: English and How It Got That Way</td><td>29</td><td>11932</td></tr><tr><td>The Lord of the Rings (The Lord of the Rings, #1-3)</td><td>33</td><td>11932</td></tr><tr><td>The Lord of the Rings: Weapons and Warfare</td><td>36</td><td>11932</td></tr><tr><td>Heretics of Dune (Dune Chronicles #5)</td><td>117</td><td>11932</td></tr><tr><td>The Lord of the Rings: The Art of The Fellowship of the Ring</td><td>119</td><td>11932</td></tr><tr><td>I am Charlotte Simmons</td><td>231</td><td>11932</td></tr></table>"
                    },
                    "metadata": {}
                }
            ],
            "execution_count": 235
        },
        {
            "cell_type": "code",
            "source": [
                "-- why is this not the answer for part A, though? why are these results so different from when the tables are joined? \r\n",
                "-- top 10 users\r\n",
                "SELECT top 10 count(distinct book_id) AS \"Total Books to Read\", user_id\r\n",
                "FROM to_read\r\n",
                "group BY user_id \r\n",
                "order BY count(distinct book_id) DESC\r\n",
                "\r\n",
                "\r\n",
                "SELECT b.title, r.book_id, r.user_id\r\n",
                "FROM books AS b\r\n",
                "JOIN to_read as r\r\n",
                "ON b.best_book_id = r.book_id\r\n",
                "WHERE r.user_id LIKE '28259' -- from above query, i'd expect 114 rows and titles to be returned here but its only 7. are there somehow duplicates or lower bc the tables are joined?"
            ],
            "metadata": {
                "azdata_cell_guid": "c6c815f8-890d-4163-be63-3d300e320597",
                "tags": [],
                "language": "sql"
            },
            "outputs": [
                {
                    "output_type": "display_data",
                    "data": {
                        "text/html": "(10 rows affected)"
                    },
                    "metadata": {}
                },
                {
                    "output_type": "display_data",
                    "data": {
                        "text/html": "(7 rows affected)"
                    },
                    "metadata": {}
                },
                {
                    "output_type": "display_data",
                    "data": {
                        "text/html": "Total execution time: 00:00:00.544"
                    },
                    "metadata": {}
                },
                {
                    "output_type": "execute_result",
                    "execution_count": 238,
                    "data": {
                        "application/vnd.dataresource+json": {
                            "schema": {
                                "fields": [
                                    {
                                        "name": "Total Books to Read"
                                    },
                                    {
                                        "name": "user_id"
                                    }
                                ]
                            },
                            "data": [
                                {
                                    "0": "117",
                                    "1": "38457"
                                },
                                {
                                    "0": "114",
                                    "1": "28259"
                                },
                                {
                                    "0": "110",
                                    "1": "38076"
                                },
                                {
                                    "0": "108",
                                    "1": "44530"
                                },
                                {
                                    "0": "107",
                                    "1": "46555"
                                },
                                {
                                    "0": "107",
                                    "1": "46000"
                                },
                                {
                                    "0": "105",
                                    "1": "34162"
                                },
                                {
                                    "0": "104",
                                    "1": "34487"
                                },
                                {
                                    "0": "103",
                                    "1": "39174"
                                },
                                {
                                    "0": "102",
                                    "1": "40362"
                                }
                            ]
                        },
                        "text/html": "<table><tr><th>Total Books to Read</th><th>user_id</th></tr><tr><td>117</td><td>38457</td></tr><tr><td>114</td><td>28259</td></tr><tr><td>110</td><td>38076</td></tr><tr><td>108</td><td>44530</td></tr><tr><td>107</td><td>46555</td></tr><tr><td>107</td><td>46000</td></tr><tr><td>105</td><td>34162</td></tr><tr><td>104</td><td>34487</td></tr><tr><td>103</td><td>39174</td></tr><tr><td>102</td><td>40362</td></tr></table>"
                    },
                    "metadata": {}
                },
                {
                    "output_type": "execute_result",
                    "execution_count": 238,
                    "data": {
                        "application/vnd.dataresource+json": {
                            "schema": {
                                "fields": [
                                    {
                                        "name": "title"
                                    },
                                    {
                                        "name": "book_id"
                                    },
                                    {
                                        "name": "user_id"
                                    }
                                ]
                            },
                            "data": [
                                {
                                    "0": "Gravity's Rainbow",
                                    "1": "415",
                                    "2": "28259"
                                },
                                {
                                    "0": "Anthem",
                                    "1": "667",
                                    "2": "28259"
                                },
                                {
                                    "0": "The Plot Against America",
                                    "1": "703",
                                    "2": "28259"
                                },
                                {
                                    "0": "The Alchemist",
                                    "1": "865",
                                    "2": "28259"
                                },
                                {
                                    "0": "Pompeii",
                                    "1": "880",
                                    "2": "28259"
                                },
                                {
                                    "0": "A Walk to Remember",
                                    "1": "3473",
                                    "2": "28259"
                                },
                                {
                                    "0": "The America's Test Kitchen Family Cookbook",
                                    "1": "3888",
                                    "2": "28259"
                                }
                            ]
                        },
                        "text/html": "<table><tr><th>title</th><th>book_id</th><th>user_id</th></tr><tr><td>Gravity's Rainbow</td><td>415</td><td>28259</td></tr><tr><td>Anthem</td><td>667</td><td>28259</td></tr><tr><td>The Plot Against America</td><td>703</td><td>28259</td></tr><tr><td>The Alchemist</td><td>865</td><td>28259</td></tr><tr><td>Pompeii</td><td>880</td><td>28259</td></tr><tr><td>A Walk to Remember</td><td>3473</td><td>28259</td></tr><tr><td>The America's Test Kitchen Family Cookbook</td><td>3888</td><td>28259</td></tr></table>"
                    },
                    "metadata": {}
                }
            ],
            "execution_count": 238
        }
    ]
}